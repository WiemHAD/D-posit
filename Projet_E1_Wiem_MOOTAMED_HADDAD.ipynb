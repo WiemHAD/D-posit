{
  "nbformat": 4,
  "nbformat_minor": 0,
  "metadata": {
    "colab": {
      "provenance": [],
      "collapsed_sections": [],
      "authorship_tag": "ABX9TyNNlcqYtzAWefazyEK5HQPk",
      "include_colab_link": true
    },
    "kernelspec": {
      "name": "python3",
      "display_name": "Python 3"
    },
    "language_info": {
      "name": "python"
    }
  },
  "cells": [
    {
      "cell_type": "markdown",
      "metadata": {
        "id": "view-in-github",
        "colab_type": "text"
      },
      "source": [
        "<a href=\"https://colab.research.google.com/github/WiemHAD/D-posit/blob/main/Projet_E1_Wiem_MOOTAMED_HADDAD.ipynb\" target=\"_parent\"><img src=\"https://colab.research.google.com/assets/colab-badge.svg\" alt=\"Open In Colab\"/></a>"
      ]
    },
    {
      "cell_type": "markdown",
      "source": [
        "# Attribute Information:\n",
        "### Bank client data:\n",
        "* Age (numeric)\n",
        "* Job : type of job (categorical: 'admin.', 'blue-collar', 'entrepreneur', 'housemaid', 'management', 'retired', 'self-employed', 'services', 'student', 'technician', 'unemployed', 'unknown')\n",
        "* Marital : marital status (categorical: 'divorced', 'married', 'single', 'unknown' ; note: 'divorced' means divorced or widowed)\n",
        "* Education (categorical: 'basic.4y', 'basic.6y', 'basic.9y', 'high.school', 'illiterate', 'professional.course', 'university.degree', 'unknown')\n",
        "* Default: has credit in default? (categorical: 'no', 'yes', 'unknown')\n",
        "* Housing: has housing loan? (categorical: 'no', 'yes', 'unknown')\n",
        "* Loan: has personal loan? (categorical: 'no', 'yes', 'unknown')\n",
        "\n",
        "### Related with the last contact of the current campaign:\n",
        "* Contact: contact communication type (categorical:'cellular','telephone')\n",
        "* Month: last contact month of year (categorical: 'jan', 'feb', 'mar',…, 'nov', 'dec')\n",
        "* Dayofweek: last contact day of the week (categorical:'mon','tue','wed','thu','fri')\n",
        "* Duration: last contact duration, in seconds (numeric). \n",
        "\n",
        "#### Important\n",
        " **note:**  this attribute highly affects the output target (e.g., if duration=0 then y='no'). Yet, the duration is not known before a call is performed. Also, after the end of the call y is obviously known.\n",
        "Thus, this input should only be included for benchmark purposes and should be discarded if the intention is to have a realistic predictive model.\n",
        "\n",
        "### Other attributes:\n",
        "* Campaign: number of contacts performed during this campaign and for this client (numeric, includes last contact)\n",
        "* Pdays: number of days that passed by after the client was last contacted from a previous campaign (numeric; 999 means client was not previously contacted)\n",
        "* Previous: number of contacts performed before this campaign and for this client (numeric)\n",
        "* Poutcome: outcome of the previous marketing campaign (categorical:'failure','nonexistent','success')\n",
        "\n",
        "### Social and economic context attributes\n",
        "* Emp.var.rate: employment variation rate - quarterly indicator (numeric)\n",
        "* Cons.price.idx: consumer price index - monthly indicator (numeric)\n",
        "* Cons.conf.idx: consumer confidence index - monthly indicator (numeric)\n",
        "* Euribor3m: euribor 3 month rate - daily indicator (numeric)\n",
        "* Nr.employed: number of employees - quarterly indicator (numeric)\n",
        "\n",
        "### Output variable (desired target):\n",
        "* y - has the client subscribed a term deposit? (binary: 'yes', 'no')"
      ],
      "metadata": {
        "id": "dJunOWqYbL-u"
      }
    },
    {
      "cell_type": "markdown",
      "source": [
        "## Import librairies"
      ],
      "metadata": {
        "id": "MOGviZEkasjh"
      }
    },
    {
      "cell_type": "code",
      "source": [
        "from google.colab import drive\n",
        "\n",
        "\n",
        "import random\n",
        "import pandas as pd\n",
        "import numpy as np\n",
        "import math\n",
        "import statistics\n",
        "from sklearn.utils import shuffle\n",
        "\n",
        "import matplotlib.pyplot as plt\n",
        "import seaborn as sns\n",
        "\n",
        "from sklearn.decomposition import PCA\n",
        "from sklearn.preprocessing import LabelEncoder\n",
        "from sklearn.preprocessing import StandardScaler\n",
        "\n",
        "from sklearn.model_selection import train_test_split\n",
        "\n",
        "from sklearn.pipeline import Pipeline\n",
        "from sklearn.ensemble import ExtraTreesClassifier\n",
        "from sklearn.linear_model import SGDClassifier\n",
        "from sklearn.neighbors import KNeighborsClassifier\n",
        "from sklearn.ensemble import RandomForestClassifier\n",
        "import xgboost as xgb\n",
        "from sklearn.model_selection import GridSearchCV\n",
        "\n",
        "\n",
        "from sklearn.metrics import confusion_matrix, classification_report, recall_score, precision_score, f1_score\n",
        "from sklearn.metrics import plot_roc_curve\n"
      ],
      "metadata": {
        "id": "K0rGT5DLXG6k"
      },
      "execution_count": 267,
      "outputs": []
    },
    {
      "cell_type": "markdown",
      "source": [
        "## Mount Drive"
      ],
      "metadata": {
        "id": "pUPmk6EHbkN1"
      }
    },
    {
      "cell_type": "code",
      "source": [
        "drive.mount('/content/drive')"
      ],
      "metadata": {
        "colab": {
          "base_uri": "https://localhost:8080/"
        },
        "id": "dLWzMpdgXJlX",
        "outputId": "93aaf65a-11f9-4f1c-8108-cae76dee1e58"
      },
      "execution_count": 3,
      "outputs": [
        {
          "output_type": "stream",
          "name": "stdout",
          "text": [
            "Mounted at /content/drive\n"
          ]
        }
      ]
    },
    {
      "cell_type": "markdown",
      "source": [
        "## Import Data"
      ],
      "metadata": {
        "id": "1aOxfI8cc4pN"
      }
    },
    {
      "cell_type": "code",
      "source": [
        "df = pd.read_csv('/content/drive/MyDrive/DATA/data_banking/banking.csv', sep=';')\n",
        "df.rename(columns = {'emp.var.rate':'emp_var_rate', 'cons.price.idx':'cons_price_idx','cons.conf.idx':'cons_conf_idx', 'nr.employed':'nr_employed' }, inplace = True)"
      ],
      "metadata": {
        "id": "_0Y6yvCcXLVE"
      },
      "execution_count": 4,
      "outputs": []
    },
    {
      "cell_type": "markdown",
      "source": [
        "## Features Comprehension"
      ],
      "metadata": {
        "id": "OOnIXvoCcnTd"
      }
    },
    {
      "cell_type": "code",
      "source": [
        "#features comprehension \n",
        "cat_col=[]\n",
        "cols = df.columns\n",
        "\n",
        "for col in cols:\n",
        "  if df[col].dtypes == 'object':\n",
        "    cat_col.append(col)\n",
        "    print(col)\n",
        "    print(df[col].unique())\n",
        "    print(df[col].value_counts())\n",
        "    print('***'*20)"
      ],
      "metadata": {
        "colab": {
          "base_uri": "https://localhost:8080/"
        },
        "id": "bRKPfNyPc1_-",
        "outputId": "e7ea5cd5-7ca1-40cb-a70c-415f0edd13fe"
      },
      "execution_count": 5,
      "outputs": [
        {
          "output_type": "stream",
          "name": "stdout",
          "text": [
            "job\n",
            "['housemaid' 'services' 'admin.' 'blue-collar' 'technician' 'retired'\n",
            " 'management' 'unemployed' 'self-employed' 'unknown' 'entrepreneur'\n",
            " 'student']\n",
            "admin.           10422\n",
            "blue-collar       9254\n",
            "technician        6743\n",
            "services          3969\n",
            "management        2924\n",
            "retired           1720\n",
            "entrepreneur      1456\n",
            "self-employed     1421\n",
            "housemaid         1060\n",
            "unemployed        1014\n",
            "student            875\n",
            "unknown            330\n",
            "Name: job, dtype: int64\n",
            "************************************************************\n",
            "marital\n",
            "['married' 'single' 'divorced' 'unknown']\n",
            "married     24928\n",
            "single      11568\n",
            "divorced     4612\n",
            "unknown        80\n",
            "Name: marital, dtype: int64\n",
            "************************************************************\n",
            "education\n",
            "['basic.4y' 'high.school' 'basic.6y' 'basic.9y' 'professional.course'\n",
            " 'unknown' 'university.degree' 'illiterate']\n",
            "university.degree      12168\n",
            "high.school             9515\n",
            "basic.9y                6045\n",
            "professional.course     5243\n",
            "basic.4y                4176\n",
            "basic.6y                2292\n",
            "unknown                 1731\n",
            "illiterate                18\n",
            "Name: education, dtype: int64\n",
            "************************************************************\n",
            "default\n",
            "['no' 'unknown' 'yes']\n",
            "no         32588\n",
            "unknown     8597\n",
            "yes            3\n",
            "Name: default, dtype: int64\n",
            "************************************************************\n",
            "housing\n",
            "['no' 'yes' 'unknown']\n",
            "yes        21576\n",
            "no         18622\n",
            "unknown      990\n",
            "Name: housing, dtype: int64\n",
            "************************************************************\n",
            "loan\n",
            "['no' 'yes' 'unknown']\n",
            "no         33950\n",
            "yes         6248\n",
            "unknown      990\n",
            "Name: loan, dtype: int64\n",
            "************************************************************\n",
            "contact\n",
            "['telephone' 'cellular']\n",
            "cellular     26144\n",
            "telephone    15044\n",
            "Name: contact, dtype: int64\n",
            "************************************************************\n",
            "month\n",
            "['may' 'jun' 'jul' 'aug' 'oct' 'nov' 'dec' 'mar' 'apr' 'sep']\n",
            "may    13769\n",
            "jul     7174\n",
            "aug     6178\n",
            "jun     5318\n",
            "nov     4101\n",
            "apr     2632\n",
            "oct      718\n",
            "sep      570\n",
            "mar      546\n",
            "dec      182\n",
            "Name: month, dtype: int64\n",
            "************************************************************\n",
            "day_of_week\n",
            "['mon' 'tue' 'wed' 'thu' 'fri']\n",
            "thu    8623\n",
            "mon    8514\n",
            "wed    8134\n",
            "tue    8090\n",
            "fri    7827\n",
            "Name: day_of_week, dtype: int64\n",
            "************************************************************\n",
            "poutcome\n",
            "['nonexistent' 'failure' 'success']\n",
            "nonexistent    35563\n",
            "failure         4252\n",
            "success         1373\n",
            "Name: poutcome, dtype: int64\n",
            "************************************************************\n",
            "y\n",
            "['no' 'yes']\n",
            "no     36548\n",
            "yes     4640\n",
            "Name: y, dtype: int64\n",
            "************************************************************\n"
          ]
        }
      ]
    },
    {
      "cell_type": "code",
      "source": [
        "def get_df_infos(df_):\n",
        "  \"\"\" Detect NaN \"\"\"\n",
        "\n",
        "    df_info = pd.DataFrame(columns={\"column\", \"NaN\", \"NaN %\"})\n",
        "\n",
        "    for index, value in df_.isna().sum().iteritems():\n",
        "        df_temp = pd.DataFrame({\"column\" : index, \"NaN\" : [value], \"NaN %\" : round(value*100 /len(df_), 2)})\n",
        "        df_info = pd.concat([df_info, df_temp], ignore_index=True)\n",
        "        df_info.sort_values(by=\"NaN\", ascending=False, inplace=True)\n",
        "\n",
        "    int_ = df_.select_dtypes(include=['int64']).columns.to_list()\n",
        "    float_ = df_.select_dtypes(include=['float64']).columns.to_list()\n",
        "    object_ = df_.select_dtypes(include=['object']).columns.to_list()\n",
        "\n",
        "    print(f\"Int64 : {', '.join(int_)}\")\n",
        "    print(f\"\\nFloat64 : {', '.join(float_)}\")\n",
        "    print(f\"\\nObject : {', '.join(object_)}\\n\") \n",
        "    \n",
        "    print(\"Total detected columns =\",len(int_) + len(float_) + len(object_))\n",
        "    print(\"\\nshape =\", df_.shape)\n",
        "    print(\"\\nshape without NaNs =\", df_.dropna().shape)\n",
        "\n",
        "    print(\"\\n\\n\", df_info)"
      ],
      "metadata": {
        "id": "MjBx4PZwc8q4"
      },
      "execution_count": 6,
      "outputs": []
    },
    {
      "cell_type": "code",
      "source": [
        "get_df_infos(df)"
      ],
      "metadata": {
        "colab": {
          "base_uri": "https://localhost:8080/"
        },
        "id": "aQxOcskXdBIf",
        "outputId": "fb7f4170-3e04-4e95-cf7e-2b02ef4e1a49"
      },
      "execution_count": 7,
      "outputs": [
        {
          "output_type": "stream",
          "name": "stdout",
          "text": [
            "Int64 : age, duration, campaign, pdays, previous\n",
            "\n",
            "Float64 : emp_var_rate, cons_price_idx, cons_conf_idx, euribor3m, nr_employed\n",
            "\n",
            "Object : job, marital, education, default, housing, loan, contact, month, day_of_week, poutcome, y\n",
            "\n",
            "Total detected columns = 21\n",
            "\n",
            "shape = (41188, 21)\n",
            "\n",
            "shape without NaNs = (41188, 21)\n",
            "\n",
            "\n",
            "     NaN %          column NaN\n",
            "0     0.0             age   0\n",
            "11    0.0             job   0\n",
            "19    0.0     nr_employed   0\n",
            "18    0.0   cons_conf_idx   0\n",
            "17    0.0    emp_var_rate   0\n",
            "16    0.0        poutcome   0\n",
            "15    0.0        previous   0\n",
            "14    0.0           pdays   0\n",
            "13    0.0        campaign   0\n",
            "12    0.0        duration   0\n",
            "10    0.0     day_of_week   0\n",
            "1     0.0           month   0\n",
            "9     0.0         contact   0\n",
            "8     0.0            loan   0\n",
            "7     0.0         housing   0\n",
            "6     0.0         default   0\n",
            "5     0.0       education   0\n",
            "4     0.0         marital   0\n",
            "3     0.0  cons_price_idx   0\n",
            "2     0.0       euribor3m   0\n",
            "20    0.0               y   0\n"
          ]
        }
      ]
    },
    {
      "cell_type": "markdown",
      "source": [
        "## Data Vizualisation"
      ],
      "metadata": {
        "id": "imReVZ37dj04"
      }
    },
    {
      "cell_type": "code",
      "source": [
        "from matplotlib.pyplot import figure\n",
        "\n",
        "for n in cols:\n",
        "  plt.hist(df[n], edgecolor='black')\n",
        "  plt.title(n)\n",
        "  figure(figsize=(8, 6))\n",
        "  plt.show()"
      ],
      "metadata": {
        "colab": {
          "base_uri": "https://localhost:8080/",
          "height": 1000
        },
        "id": "mCL3ypW5dBtZ",
        "outputId": "4ed6d48c-1cae-4872-a7d6-809af7e2a3ac"
      },
      "execution_count": 8,
      "outputs": [
        {
          "output_type": "display_data",
          "data": {
            "text/plain": [
              "<Figure size 432x288 with 1 Axes>"
            ],
            "image/png": "[encoded data removed]"
          },
          "metadata": {
            "needs_background": "light"
          }
        },
        {
          "output_type": "display_data",
          "data": {
            "text/plain": [
              "<Figure size 576x432 with 0 Axes>"
            ]
          },
          "metadata": {}
        },
        {
          "output_type": "display_data",
          "data": {
            "text/plain": [
              "<Figure size 432x288 with 1 Axes>"
            ],
            "image/png": "[encoded data removed]"
          },
          "metadata": {
            "needs_background": "light"
          }
        },
        {
          "output_type": "display_data",
          "data": {
            "text/plain": [
              "<Figure size 576x432 with 0 Axes>"
            ]
          },
          "metadata": {}
        },
        {
          "output_type": "display_data",
          "data": {
            "text/plain": [
              "<Figure size 432x288 with 1 Axes>"
            ],
            "image/png": "[encoded data removed]"
          },
          "metadata": {
            "needs_background": "light"
          }
        },
        {
          "output_type": "display_data",
          "data": {
            "text/plain": [
              "<Figure size 576x432 with 0 Axes>"
            ]
          },
          "metadata": {}
        },
        {
          "output_type": "display_data",
          "data": {
            "text/plain": [
              "<Figure size 432x288 with 1 Axes>"
            ],
            "image/png": "[encoded data removed]"
          },
          "metadata": {
            "needs_background": "light"
          }
        },
        {
          "output_type": "display_data",
          "data": {
            "text/plain": [
              "<Figure size 576x432 with 0 Axes>"
            ]
          },
          "metadata": {}
        },
        {
          "output_type": "display_data",
          "data": {
            "text/plain": [
              "<Figure size 432x288 with 1 Axes>"
            ],
            "image/png": "[encoded data removed]"
          },
          "metadata": {
            "needs_background": "light"
          }
        },
        {
          "output_type": "display_data",
          "data": {
            "text/plain": [
              "<Figure size 576x432 with 0 Axes>"
            ]
          },
          "metadata": {}
        },
        {
          "output_type": "display_data",
          "data": {
            "text/plain": [
              "<Figure size 432x288 with 1 Axes>"
            ],
            "image/png": "[encoded data removed]"
          },
          "metadata": {
            "needs_background": "light"
          }
        },
        {
          "output_type": "display_data",
          "data": {
            "text/plain": [
              "<Figure size 576x432 with 0 Axes>"
            ]
          },
          "metadata": {}
        },
        {
          "output_type": "display_data",
          "data": {
            "text/plain": [
              "<Figure size 432x288 with 1 Axes>"
            ],
            "image/png": "[encoded data removed]"
          },
          "metadata": {
            "needs_background": "light"
          }
        },
        {
          "output_type": "display_data",
          "data": {
            "text/plain": [
              "<Figure size 576x432 with 0 Axes>"
            ]
          },
          "metadata": {}
        },
        {
          "output_type": "display_data",
          "data": {
            "text/plain": [
              "<Figure size 432x288 with 1 Axes>"
            ],
            "image/png": "[encoded data removed]"
          },
          "metadata": {
            "needs_background": "light"
          }
        },
        {
          "output_type": "display_data",
          "data": {
            "text/plain": [
              "<Figure size 576x432 with 0 Axes>"
            ]
          },
          "metadata": {}
        },
        {
          "output_type": "display_data",
          "data": {
            "text/plain": [
              "<Figure size 432x288 with 1 Axes>"
            ],
            "image/png": "[encoded data removed]"
          },
          "metadata": {
            "needs_background": "light"
          }
        },
        {
          "output_type": "display_data",
          "data": {
            "text/plain": [
              "<Figure size 576x432 with 0 Axes>"
            ]
          },
          "metadata": {}
        },
        {
          "output_type": "display_data",
          "data": {
            "text/plain": [
              "<Figure size 432x288 with 1 Axes>"
            ],
            "image/png": "[encoded data removed]"
          },
          "metadata": {
            "needs_background": "light"
          }
        },
        {
          "output_type": "display_data",
          "data": {
            "text/plain": [
              "<Figure size 576x432 with 0 Axes>"
            ]
          },
          "metadata": {}
        },
        {
          "output_type": "display_data",
          "data": {
            "text/plain": [
              "<Figure size 432x288 with 1 Axes>"
            ],
            "image/png": "[encoded data removed]"
          },
          "metadata": {
            "needs_background": "light"
          }
        },
        {
          "output_type": "display_data",
          "data": {
            "text/plain": [
              "<Figure size 576x432 with 0 Axes>"
            ]
          },
          "metadata": {}
        },
        {
          "output_type": "display_data",
          "data": {
            "text/plain": [
              "<Figure size 432x288 with 1 Axes>"
            ],
            "image/png": "[encoded data removed]"
          },
          "metadata": {
            "needs_background": "light"
          }
        },
        {
          "output_type": "display_data",
          "data": {
            "text/plain": [
              "<Figure size 576x432 with 0 Axes>"
            ]
          },
          "metadata": {}
        },
        {
          "output_type": "display_data",
          "data": {
            "text/plain": [
              "<Figure size 432x288 with 1 Axes>"
            ],
            "image/png": "[encoded data removed]"
          },
          "metadata": {
            "needs_background": "light"
          }
        },
        {
          "output_type": "display_data",
          "data": {
            "text/plain": [
              "<Figure size 576x432 with 0 Axes>"
            ]
          },
          "metadata": {}
        },
        {
          "output_type": "display_data",
          "data": {
            "text/plain": [
              "<Figure size 432x288 with 1 Axes>"
            ],
            "image/png": "[encoded data removed]"
          },
          "metadata": {
            "needs_background": "light"
          }
        },
        {
          "output_type": "display_data",
          "data": {
            "text/plain": [
              "<Figure size 576x432 with 0 Axes>"
            ]
          },
          "metadata": {}
        },
        {
          "output_type": "display_data",
          "data": {
            "text/plain": [
              "<Figure size 432x288 with 1 Axes>"
            ],
            "image/png": "[encoded data removed]"
          },
          "metadata": {
            "needs_background": "light"
          }
        },
        {
          "output_type": "display_data",
          "data": {
            "text/plain": [
              "<Figure size 576x432 with 0 Axes>"
            ]
          },
          "metadata": {}
        },
        {
          "output_type": "display_data",
          "data": {
            "text/plain": [
              "<Figure size 432x288 with 1 Axes>"
            ],
            "image/png": "[encoded data removed]"
          },
          "metadata": {
            "needs_background": "light"
          }
        },
        {
          "output_type": "display_data",
          "data": {
            "text/plain": [
              "<Figure size 576x432 with 0 Axes>"
            ]
          },
          "metadata": {}
        },
        {
          "output_type": "display_data",
          "data": {
            "text/plain": [
              "<Figure size 432x288 with 1 Axes>"
            ],
            "image/png": "[encoded data removed]"
          },
          "metadata": {
            "needs_background": "light"
          }
        },
        {
          "output_type": "display_data",
          "data": {
            "text/plain": [
              "<Figure size 576x432 with 0 Axes>"
            ]
          },
          "metadata": {}
        },
        {
          "output_type": "display_data",
          "data": {
            "text/plain": [
              "<Figure size 432x288 with 1 Axes>"
            ],
            "image/png": "[encoded data removed]"
          },
          "metadata": {
            "needs_background": "light"
          }
        },
        {
          "output_type": "display_data",
          "data": {
            "text/plain": [
              "<Figure size 576x432 with 0 Axes>"
            ]
          },
          "metadata": {}
        },
        {
          "output_type": "display_data",
          "data": {
            "text/plain": [
              "<Figure size 432x288 with 1 Axes>"
            ],
            "image/png": "[encoded data removed]"
          },
          "metadata": {
            "needs_background": "light"
          }
        },
        {
          "output_type": "display_data",
          "data": {
            "text/plain": [
              "<Figure size 576x432 with 0 Axes>"
            ]
          },
          "metadata": {}
        },
        {
          "output_type": "display_data",
          "data": {
            "text/plain": [
              "<Figure size 432x288 with 1 Axes>"
            ],
            "image/png": "[encoded data removed]"
          },
          "metadata": {
            "needs_background": "light"
          }
        },
        {
          "output_type": "display_data",
          "data": {
            "text/plain": [
              "<Figure size 576x432 with 0 Axes>"
            ]
          },
          "metadata": {}
        },
        {
          "output_type": "display_data",
          "data": {
            "text/plain": [
              "<Figure size 432x288 with 1 Axes>"
            ],
            "image/png": "[encoded data removed]"
          },
          "metadata": {
            "needs_background": "light"
          }
        },
        {
          "output_type": "display_data",
          "data": {
            "text/plain": [
              "<Figure size 576x432 with 0 Axes>"
            ]
          },
          "metadata": {}
        }
      ]
    },
    {
      "cell_type": "code",
      "source": [
        "corr = df.corr()\n",
        "\n",
        "f, ax = plt.subplots(figsize=(20,20))\n",
        "\n",
        "sns.heatmap(corr, ax=ax, annot=True, cmap=\"PiYG\" )\n",
        "\n",
        "plt.title(\"Pearson correlation of Features\", y=1.05, size=15)"
      ],
      "metadata": {
        "colab": {
          "base_uri": "https://localhost:8080/",
          "height": 1000
        },
        "id": "rf_XG7UOdrsq",
        "outputId": "c2edeba4-8802-484d-8112-b96b019cc815"
      },
      "execution_count": 9,
      "outputs": [
        {
          "output_type": "execute_result",
          "data": {
            "text/plain": [
              "Text(0.5, 1.05, 'Pearson correlation of Features')"
            ]
          },
          "metadata": {},
          "execution_count": 9
        },
        {
          "output_type": "display_data",
          "data": {
            "text/plain": [
              "<Figure size 1440x1440 with 2 Axes>"
            ],
            "image/png": "[encoded data removed]"
          },
          "metadata": {
            "needs_background": "light"
          }
        }
      ]
    },
    {
      "cell_type": "markdown",
      "source": [
        "## Target and Features\n"
      ],
      "metadata": {
        "id": "ntUqWDWEiNKC"
      }
    },
    {
      "cell_type": "code",
      "source": [
        "#drop unused features\n",
        "new_df = df.drop([\"cons_price_idx\",\"emp_var_rate\",\"nr_employed\", \"poutcome\", \"pdays\"],axis=1)"
      ],
      "metadata": {
        "id": "DRnX_TCNz6hj"
      },
      "execution_count": 15,
      "outputs": []
    },
    {
      "cell_type": "code",
      "source": [
        "X = new_df.drop('y',axis=1)\n",
        "Y = new_df['y']"
      ],
      "metadata": {
        "id": "YwyTdd3ciMt4"
      },
      "execution_count": 20,
      "outputs": []
    },
    {
      "cell_type": "markdown",
      "source": [
        "## Split Data Into Train and Test"
      ],
      "metadata": {
        "id": "_yEfJ_Fi1TGK"
      }
    },
    {
      "cell_type": "code",
      "source": [
        "X_train, X_test, y_train, y_test = train_test_split(X, Y, test_size=0.2)"
      ],
      "metadata": {
        "id": "ZAU7GK9w1YvM"
      },
      "execution_count": 21,
      "outputs": []
    },
    {
      "cell_type": "markdown",
      "source": [
        "## Encod categorical features"
      ],
      "metadata": {
        "id": "awtr_cNkd73I"
      }
    },
    {
      "cell_type": "code",
      "source": [
        "encoder = LabelEncoder()"
      ],
      "metadata": {
        "id": "XLpbYQvZy-v4"
      },
      "execution_count": 17,
      "outputs": []
    },
    {
      "cell_type": "code",
      "source": [
        "encoder = LabelEncoder()\n",
        "\n",
        "new_df[\"job\"] = encoder.fit_transform(new_df[\"job\"])\n",
        "new_df[\"marital\"] = encoder.fit_transform(new_df[\"marital\"])\n",
        "new_df[\"education\"] = encoder.fit_transform(new_df[\"education\"])\n",
        "new_df[\"default\"] = encoder.fit_transform(new_df[\"default\"])\n",
        "new_df[\"housing\"] = encoder.fit_transform(new_df[\"housing\"])\n",
        "new_df[\"loan\"] = encoder.fit_transform(new_df[\"loan\"])\n",
        "new_df[\"contact\"] = encoder.fit_transform(new_df[\"contact\"])\n",
        "new_df[\"month\"] = encoder.fit_transform(new_df[\"month\"])\n",
        "new_df[\"day_of_week\"] = encoder.fit_transform(new_df[\"day_of_week\"])\n",
        "new_df[\"y\"] = encoder.fit_transform(new_df[\"y\"])"
      ],
      "metadata": {
        "id": "q0GuEac6y-SL"
      },
      "execution_count": 18,
      "outputs": []
    },
    {
      "cell_type": "markdown",
      "source": [
        "## Scale continues variables"
      ],
      "metadata": {
        "id": "0yHTFz-35IfP"
      }
    },
    {
      "cell_type": "code",
      "source": [
        "scaler = StandardScaler()\n",
        "new_df[[\"cons_conf_idx\"]] = scaler.fit_transform(new_df[[\"cons_conf_idx\"]])\n",
        "new_df[[\"euribor3m\"]] = scaler.fit_transform(new_df[[\"euribor3m\"]])"
      ],
      "metadata": {
        "id": "iujLxvVs3EIq"
      },
      "execution_count": 33,
      "outputs": []
    },
    {
      "cell_type": "markdown",
      "source": [
        "## PCA"
      ],
      "metadata": {
        "id": "BRVVdV2U2Lfv"
      }
    },
    {
      "cell_type": "code",
      "source": [
        "pca = PCA(n_components=15, random_state=100)\n",
        "pca.fit(X)\n",
        "X1_pca = pca.transform(X)\n",
        "pca.explained_variance_ratio_*100"
      ],
      "metadata": {
        "colab": {
          "base_uri": "https://localhost:8080/"
        },
        "id": "5agISsOM4EnB",
        "outputId": "74975598-1b5c-4de5-9c9e-c488115df774"
      },
      "execution_count": 37,
      "outputs": [
        {
          "output_type": "execute_result",
          "data": {
            "text/plain": [
              "array([9.97507406e+01, 1.61996974e-01, 3.17802892e-02, 1.92213828e-02,\n",
              "       1.15969112e-02, 8.13278563e-03, 6.35857632e-03, 3.89900581e-03,\n",
              "       2.86857348e-03, 1.43478202e-03, 7.73280217e-04, 4.58119371e-04,\n",
              "       2.84635811e-04, 2.39365181e-04, 2.14728582e-04])"
            ]
          },
          "metadata": {},
          "execution_count": 37
        }
      ]
    },
    {
      "cell_type": "code",
      "source": [
        "np.cumsum(pca.explained_variance_ratio_*100)"
      ],
      "metadata": {
        "colab": {
          "base_uri": "https://localhost:8080/"
        },
        "id": "f0g3mQAL4Rlc",
        "outputId": "c9765415-a381-42d3-98a6-ec6aafd40264"
      },
      "execution_count": 40,
      "outputs": [
        {
          "output_type": "execute_result",
          "data": {
            "text/plain": [
              "array([ 99.75074059,  99.91273756,  99.94451785,  99.96373924,\n",
              "        99.97533615,  99.98346893,  99.98982751,  99.99372652,\n",
              "        99.99659509,  99.99802987,  99.99880315,  99.99926127,\n",
              "        99.99954591,  99.99978527, 100.        ])"
            ]
          },
          "metadata": {},
          "execution_count": 40
        }
      ]
    },
    {
      "cell_type": "code",
      "source": [
        "plt.figure(figsize=(10,7))\n",
        "sns.scatterplot(x=X1_pca[:,0], y=X1_pca[:,1], s=70, hue= new_df.y, palette=['green','blue'])\n",
        "plt.title(\"2D scatterplot\")\n",
        "plt.xlabel(\"First principal component\")\n",
        "plt.ylabel(\"Second principal component\")"
      ],
      "metadata": {
        "colab": {
          "base_uri": "https://localhost:8080/",
          "height": 475
        },
        "id": "2VyDjjs14fPL",
        "outputId": "8230491a-10ec-40fe-bd89-b3966bc37e06"
      },
      "execution_count": 42,
      "outputs": [
        {
          "output_type": "execute_result",
          "data": {
            "text/plain": [
              "Text(0, 0.5, 'Second principal component')"
            ]
          },
          "metadata": {},
          "execution_count": 42
        },
        {
          "output_type": "display_data",
          "data": {
            "text/plain": [
              "<Figure size 720x504 with 1 Axes>"
            ],
            "image/png": "[encoded data removed]"
          },
          "metadata": {
            "needs_background": "light"
          }
        }
      ]
    },
    {
      "cell_type": "markdown",
      "metadata": {
        "id": "nlK7a3R-YvHm"
      },
      "source": [
        "# models"
      ]
    },
    {
      "cell_type": "markdown",
      "metadata": {
        "id": "DJEEU4L817sz"
      },
      "source": [
        "#### 1. XGBOOST Classifier\n",
        "\n"
      ]
    },
    {
      "cell_type": "code",
      "execution_count": 44,
      "metadata": {
        "id": "s83ofaWFzbet",
        "colab": {
          "base_uri": "https://localhost:8080/"
        },
        "outputId": "cb499d52-b0b8-480f-eab3-f64db76b2e5c"
      },
      "outputs": [
        {
          "output_type": "stream",
          "name": "stdout",
          "text": [
            "Testing score:  0.9121145909201263\n"
          ]
        }
      ],
      "source": [
        "import xgboost as xgb\n",
        "\n",
        "steps1 = [('XGBOOST', xgb.XGBClassifier())]\n",
        "pipe1 = Pipeline(steps1) # define the pipeline object.\n",
        "pipe1 = pipe1.fit(X_train, y_train)\n",
        "score_XGB = pipe1.score(X_test, y_test)\n",
        "y_pred_XGB = pipe1.predict(X_test)"
      ]
    },
    {
      "cell_type": "markdown",
      "metadata": {
        "id": "60cIdreT218R"
      },
      "source": [
        "#### 2. KNN Classifier"
      ]
    },
    {
      "cell_type": "code",
      "execution_count": 45,
      "metadata": {
        "id": "Nx5xUYJ4zxnB"
      },
      "outputs": [],
      "source": [
        "steps2 = [('KNN', KNeighborsClassifier(n_neighbors=5))]\n",
        "pipe2 = Pipeline(steps2) # define the pipeline object.\n",
        "pipe2 = pipe2.fit(X_train, y_train)\n",
        "y_pred_KNN = pipe2.predict(X_test)"
      ]
    },
    {
      "cell_type": "markdown",
      "metadata": {
        "id": "s_BAGtRT2Avt"
      },
      "source": [
        "#### 3. SGD Classifier"
      ]
    },
    {
      "cell_type": "code",
      "execution_count": 47,
      "metadata": {
        "id": "uM8Mk6sez3XG"
      },
      "outputs": [],
      "source": [
        "steps3 = [('SGD', SGDClassifier())]\n",
        "pipe3 = Pipeline(steps3) # define the pipeline object.\n",
        "pipe3 = pipe3.fit(X_train, y_train)\n",
        "y_pred_SGD = pipe3.predict(X_test)"
      ]
    },
    {
      "cell_type": "markdown",
      "metadata": {
        "id": "Q2R9bUfh2QxX"
      },
      "source": [
        "#### 4.Extra Tree Classifier\n",
        "\n",
        "\n"
      ]
    },
    {
      "cell_type": "code",
      "execution_count": 48,
      "metadata": {
        "id": "Mbvmwflaz5OD"
      },
      "outputs": [],
      "source": [
        "steps5 = [('ExtraTree Classifier', ExtraTreesClassifier())]                           \n",
        "pipe5 = Pipeline(steps5) # define the pipeline object.\n",
        "pipe5 = pipe5.fit(X_train, y_train)\n",
        "score_EXT = pipe5.score(X_test, y_test)\n",
        "y_pred_EXT = pipe5.predict(X_test)"
      ]
    },
    {
      "cell_type": "markdown",
      "metadata": {
        "id": "rXW6qJCwvtcj"
      },
      "source": [
        "#### 5. Random Forest"
      ]
    },
    {
      "cell_type": "code",
      "execution_count": 49,
      "metadata": {
        "id": "y0ShI0SZvz8f",
        "colab": {
          "base_uri": "https://localhost:8080/"
        },
        "outputId": "2c831e21-fe06-4c65-def3-5d14a371b419"
      },
      "outputs": [
        {
          "output_type": "stream",
          "name": "stdout",
          "text": [
            "Testing score:  0.9104151493080845\n"
          ]
        }
      ],
      "source": [
        "steps6 = [('Random Forest', RandomForestClassifier())]                                           \n",
        "pipe6 = Pipeline(steps6) # define the pipeline object.\n",
        "pipe6 = pipe6.fit(X_train, y_train)\n",
        "y_pred_RF = pipe6.predict(X_test)"
      ]
    },
    {
      "cell_type": "markdown",
      "metadata": {
        "id": "b3yJluxxPDzO"
      },
      "source": [
        "## metrics"
      ]
    },
    {
      "cell_type": "code",
      "execution_count": 53,
      "metadata": {
        "id": "WOQtn_7SXgWk"
      },
      "outputs": [],
      "source": [
        "def metrics(pipe1, pipe2, pipe3, pipe5, pipe6):\n",
        "  metrics = pd.DataFrame(columns =[\"testing_score\", \"F1_score\", \"recall\", \"precision\", \"CM_XGB\"])\n",
        "  list_testing_score=[]\n",
        "  list_f1_score=[]\n",
        "  list_recall=[]\n",
        "  list_precision=[]\n",
        "  list_CM=[]\n",
        "  models_name = [pipe1, pipe2, pipe3, pipe5, pipe6]\n",
        "\n",
        "  for model in models_name: \n",
        "\n",
        "    y_pred = model.predict(X_test)\n",
        "\n",
        "    F1_score = round(f1_score(y_true=y_test, y_pred=y_pred),4)\n",
        "    list_f1_score.append(F1_score)\n",
        "\n",
        "    recall = round(recall_score(y_true=y_test, y_pred=y_pred),4)\n",
        "    list_recall.append(recall)\n",
        "\n",
        "    precision = round(precision_score(y_true=y_test, y_pred=y_pred),4)\n",
        "    list_precision.append(precision)\n",
        "\n",
        "  metrics = pd.DataFrame(\n",
        "      {'F1_score': list_f1_score, 'recall': list_recall, 'precision': list_precision},\n",
        "      index=[\"XGB\", \"KNN\", \"SGD\", \"EXT\", \"RF\"]\n",
        "      )\n",
        "  return metrics"
      ]
    },
    {
      "cell_type": "code",
      "execution_count": 52,
      "metadata": {
        "id": "EA6S9a9EoYoZ",
        "colab": {
          "base_uri": "https://localhost:8080/",
          "height": 206
        },
        "outputId": "f6b7e037-bcb1-47cd-bf94-5a1f9a83bb70"
      },
      "outputs": [
        {
          "output_type": "execute_result",
          "data": {
            "text/plain": [
              "     F1_score  recall  precision\n",
              "XGB    0.6302  0.6606     0.6025\n",
              "KNN    0.3537  0.3501     0.3574\n",
              "SGD    0.0374  0.0193     0.6207\n",
              "EXT    0.4854  0.3822     0.6648\n",
              "RF     0.5778  0.5407     0.6204"
            ],
            "text/html": [
              "\n",
              "  <div id=\"df-4153b236-d8a8-4f82-a604-85526b1584c1\">\n",
              "    <div class=\"colab-df-container\">\n",
              "      <div>\n",
              "<style scoped>\n",
              "    .dataframe tbody tr th:only-of-type {\n",
              "        vertical-align: middle;\n",
              "    }\n",
              "\n",
              "    .dataframe tbody tr th {\n",
              "        vertical-align: top;\n",
              "    }\n",
              "\n",
              "    .dataframe thead th {\n",
              "        text-align: right;\n",
              "    }\n",
              "</style>\n",
              "<table border=\"1\" class=\"dataframe\">\n",
              "  <thead>\n",
              "    <tr style=\"text-align: right;\">\n",
              "      <th></th>\n",
              "      <th>F1_score</th>\n",
              "      <th>recall</th>\n",
              "      <th>precision</th>\n",
              "    </tr>\n",
              "  </thead>\n",
              "  <tbody>\n",
              "    <tr>\n",
              "      <th>XGB</th>\n",
              "      <td>0.6302</td>\n",
              "      <td>0.6606</td>\n",
              "      <td>0.6025</td>\n",
              "    </tr>\n",
              "    <tr>\n",
              "      <th>KNN</th>\n",
              "      <td>0.3537</td>\n",
              "      <td>0.3501</td>\n",
              "      <td>0.3574</td>\n",
              "    </tr>\n",
              "    <tr>\n",
              "      <th>SGD</th>\n",
              "      <td>0.0374</td>\n",
              "      <td>0.0193</td>\n",
              "      <td>0.6207</td>\n",
              "    </tr>\n",
              "    <tr>\n",
              "      <th>EXT</th>\n",
              "      <td>0.4854</td>\n",
              "      <td>0.3822</td>\n",
              "      <td>0.6648</td>\n",
              "    </tr>\n",
              "    <tr>\n",
              "      <th>RF</th>\n",
              "      <td>0.5778</td>\n",
              "      <td>0.5407</td>\n",
              "      <td>0.6204</td>\n",
              "    </tr>\n",
              "  </tbody>\n",
              "</table>\n",
              "</div>\n",
              "      <button class=\"colab-df-convert\" onclick=\"convertToInteractive('df-4153b236-d8a8-4f82-a604-85526b1584c1')\"\n",
              "              title=\"Convert this dataframe to an interactive table.\"\n",
              "              style=\"display:none;\">\n",
              "        \n",
              "  <svg xmlns=\"http://www.w3.org/2000/svg\" height=\"24px\"viewBox=\"0 0 24 24\"\n",
              "       width=\"24px\">\n",
              "    <path d=\"M0 0h24v24H0V0z\" fill=\"none\"/>\n",
              "    <path d=\"M18.56 5.44l.94 2.06.94-2.06 2.06-.94-2.06-.94-.94-2.06-.94 2.06-2.06.94zm-11 1L8.5 8.5l.94-2.06 2.06-.94-2.06-.94L8.5 2.5l-.94 2.06-2.06.94zm10 10l.94 2.06.94-2.06 2.06-.94-2.06-.94-.94-2.06-.94 2.06-2.06.94z\"/><path d=\"M17.41 7.96l-1.37-1.37c-.4-.4-.92-.59-1.43-.59-.52 0-1.04.2-1.43.59L10.3 9.45l-7.72 7.72c-.78.78-.78 2.05 0 2.83L4 21.41c.39.39.9.59 1.41.59.51 0 1.02-.2 1.41-.59l7.78-7.78 2.81-2.81c.8-.78.8-2.07 0-2.86zM5.41 20L4 18.59l7.72-7.72 1.47 1.35L5.41 20z\"/>\n",
              "  </svg>\n",
              "      </button>\n",
              "      \n",
              "  <style>\n",
              "    .colab-df-container {\n",
              "      display:flex;\n",
              "      flex-wrap:wrap;\n",
              "      gap: 12px;\n",
              "    }\n",
              "\n",
              "    .colab-df-convert {\n",
              "      background-color: #E8F0FE;\n",
              "      border: none;\n",
              "      border-radius: 50%;\n",
              "      cursor: pointer;\n",
              "      display: none;\n",
              "      fill: #1967D2;\n",
              "      height: 32px;\n",
              "      padding: 0 0 0 0;\n",
              "      width: 32px;\n",
              "    }\n",
              "\n",
              "    .colab-df-convert:hover {\n",
              "      background-color: #E2EBFA;\n",
              "      box-shadow: 0px 1px 2px rgba(60, 64, 67, 0.3), 0px 1px 3px 1px rgba(60, 64, 67, 0.15);\n",
              "      fill: #174EA6;\n",
              "    }\n",
              "\n",
              "    [theme=dark] .colab-df-convert {\n",
              "      background-color: #3B4455;\n",
              "      fill: #D2E3FC;\n",
              "    }\n",
              "\n",
              "    [theme=dark] .colab-df-convert:hover {\n",
              "      background-color: #434B5C;\n",
              "      box-shadow: 0px 1px 3px 1px rgba(0, 0, 0, 0.15);\n",
              "      filter: drop-shadow(0px 1px 2px rgba(0, 0, 0, 0.3));\n",
              "      fill: #FFFFFF;\n",
              "    }\n",
              "  </style>\n",
              "\n",
              "      <script>\n",
              "        const buttonEl =\n",
              "          document.querySelector('#df-4153b236-d8a8-4f82-a604-85526b1584c1 button.colab-df-convert');\n",
              "        buttonEl.style.display =\n",
              "          google.colab.kernel.accessAllowed ? 'block' : 'none';\n",
              "\n",
              "        async function convertToInteractive(key) {\n",
              "          const element = document.querySelector('#df-4153b236-d8a8-4f82-a604-85526b1584c1');\n",
              "          const dataTable =\n",
              "            await google.colab.kernel.invokeFunction('convertToInteractive',\n",
              "                                                     [key], {});\n",
              "          if (!dataTable) return;\n",
              "\n",
              "          const docLinkHtml = 'Like what you see? Visit the ' +\n",
              "            '<a target=\"_blank\" href=https://colab.research.google.com/notebooks/data_table.ipynb>data table notebook</a>'\n",
              "            + ' to learn more about interactive tables.';\n",
              "          element.innerHTML = '';\n",
              "          dataTable['output_type'] = 'display_data';\n",
              "          await google.colab.output.renderOutput(dataTable, element);\n",
              "          const docLink = document.createElement('div');\n",
              "          docLink.innerHTML = docLinkHtml;\n",
              "          element.appendChild(docLink);\n",
              "        }\n",
              "      </script>\n",
              "    </div>\n",
              "  </div>\n",
              "  "
            ]
          },
          "metadata": {},
          "execution_count": 52
        }
      ],
      "source": [
        "metrics(pipe1, pipe2, pipe3, pipe5, pipe6)"
      ]
    },
    {
      "cell_type": "code",
      "execution_count": 58,
      "metadata": {
        "id": "vySKhmGfP6tU",
        "colab": {
          "base_uri": "https://localhost:8080/",
          "height": 1000
        },
        "outputId": "3a18a78f-6b39-4d0d-c157-ac795fb7fa85"
      },
      "outputs": [
        {
          "output_type": "stream",
          "name": "stderr",
          "text": [
            "/usr/local/lib/python3.7/dist-packages/sklearn/utils/deprecation.py:87: FutureWarning: Function plot_roc_curve is deprecated; Function :func:`plot_roc_curve` is deprecated in 1.0 and will be removed in 1.2. Use one of the class methods: :meth:`sklearn.metric.RocCurveDisplay.from_predictions` or :meth:`sklearn.metric.RocCurveDisplay.from_estimator`.\n",
            "  warnings.warn(msg, category=FutureWarning)\n"
          ]
        },
        {
          "output_type": "display_data",
          "data": {
            "text/plain": [
              "<Figure size 432x288 with 1 Axes>"
            ],
            "image/png": "[encoded data removed]"
          },
          "metadata": {
            "needs_background": "light"
          }
        },
        {
          "output_type": "stream",
          "name": "stderr",
          "text": [
            "/usr/local/lib/python3.7/dist-packages/sklearn/utils/deprecation.py:87: FutureWarning: Function plot_roc_curve is deprecated; Function :func:`plot_roc_curve` is deprecated in 1.0 and will be removed in 1.2. Use one of the class methods: :meth:`sklearn.metric.RocCurveDisplay.from_predictions` or :meth:`sklearn.metric.RocCurveDisplay.from_estimator`.\n",
            "  warnings.warn(msg, category=FutureWarning)\n"
          ]
        },
        {
          "output_type": "display_data",
          "data": {
            "text/plain": [
              "<Figure size 432x288 with 1 Axes>"
            ],
            "image/png": "[encoded data removed]"
          },
          "metadata": {
            "needs_background": "light"
          }
        },
        {
          "output_type": "stream",
          "name": "stderr",
          "text": [
            "/usr/local/lib/python3.7/dist-packages/sklearn/utils/deprecation.py:87: FutureWarning: Function plot_roc_curve is deprecated; Function :func:`plot_roc_curve` is deprecated in 1.0 and will be removed in 1.2. Use one of the class methods: :meth:`sklearn.metric.RocCurveDisplay.from_predictions` or :meth:`sklearn.metric.RocCurveDisplay.from_estimator`.\n",
            "  warnings.warn(msg, category=FutureWarning)\n"
          ]
        },
        {
          "output_type": "display_data",
          "data": {
            "text/plain": [
              "<Figure size 432x288 with 1 Axes>"
            ],
            "image/png": "[encoded data removed]"
          },
          "metadata": {
            "needs_background": "light"
          }
        },
        {
          "output_type": "stream",
          "name": "stderr",
          "text": [
            "/usr/local/lib/python3.7/dist-packages/sklearn/utils/deprecation.py:87: FutureWarning: Function plot_roc_curve is deprecated; Function :func:`plot_roc_curve` is deprecated in 1.0 and will be removed in 1.2. Use one of the class methods: :meth:`sklearn.metric.RocCurveDisplay.from_predictions` or :meth:`sklearn.metric.RocCurveDisplay.from_estimator`.\n",
            "  warnings.warn(msg, category=FutureWarning)\n"
          ]
        },
        {
          "output_type": "display_data",
          "data": {
            "text/plain": [
              "<Figure size 432x288 with 1 Axes>"
            ],
            "image/png": "[encoded data removed]"
          },
          "metadata": {
            "needs_background": "light"
          }
        },
        {
          "output_type": "stream",
          "name": "stderr",
          "text": [
            "/usr/local/lib/python3.7/dist-packages/sklearn/utils/deprecation.py:87: FutureWarning: Function plot_roc_curve is deprecated; Function :func:`plot_roc_curve` is deprecated in 1.0 and will be removed in 1.2. Use one of the class methods: :meth:`sklearn.metric.RocCurveDisplay.from_predictions` or :meth:`sklearn.metric.RocCurveDisplay.from_estimator`.\n",
            "  warnings.warn(msg, category=FutureWarning)\n"
          ]
        },
        {
          "output_type": "display_data",
          "data": {
            "text/plain": [
              "<Figure size 432x288 with 1 Axes>"
            ],
            "image/png": "[encoded data removed]"
          },
          "metadata": {
            "needs_background": "light"
          }
        }
      ],
      "source": [
        "models_name = [pipe1, pipe2, pipe3, pipe5, pipe6]\n",
        "for model in models_name: \n",
        "  plot_roc_curve(model, X_test, y_test)\n",
        "  plt.show()"
      ]
    },
    {
      "cell_type": "code",
      "source": [
        "  for i in models_name:\n",
        "    print(\"Classification report\", i)\n",
        "    y_pred = i.predict(X_test)\n",
        "    print(classification_report(y_test, y_pred))"
      ],
      "metadata": {
        "colab": {
          "base_uri": "https://localhost:8080/"
        },
        "id": "R-g6y7e88Pgv",
        "outputId": "444f8768-aae6-4905-bdb0-15ff9e96d823"
      },
      "execution_count": 60,
      "outputs": [
        {
          "output_type": "stream",
          "name": "stdout",
          "text": [
            "Classification report Pipeline(steps=[('XGBOOST', XGBClassifier())])\n",
            "              precision    recall  f1-score   support\n",
            "\n",
            "           0       0.96      0.94      0.95      7304\n",
            "           1       0.60      0.66      0.63       934\n",
            "\n",
            "    accuracy                           0.91      8238\n",
            "   macro avg       0.78      0.80      0.79      8238\n",
            "weighted avg       0.92      0.91      0.91      8238\n",
            "\n",
            "Classification report Pipeline(steps=[('KNN', KNeighborsClassifier())])\n",
            "              precision    recall  f1-score   support\n",
            "\n",
            "           0       0.92      0.92      0.92      7304\n",
            "           1       0.36      0.35      0.35       934\n",
            "\n",
            "    accuracy                           0.85      8238\n",
            "   macro avg       0.64      0.63      0.64      8238\n",
            "weighted avg       0.85      0.85      0.85      8238\n",
            "\n",
            "Classification report Pipeline(steps=[('SGD', SGDClassifier())])\n",
            "              precision    recall  f1-score   support\n",
            "\n",
            "           0       0.89      1.00      0.94      7304\n",
            "           1       0.62      0.02      0.04       934\n",
            "\n",
            "    accuracy                           0.89      8238\n",
            "   macro avg       0.75      0.51      0.49      8238\n",
            "weighted avg       0.86      0.89      0.84      8238\n",
            "\n",
            "Classification report Pipeline(steps=[('ExtraTree Classifier', ExtraTreesClassifier())])\n",
            "              precision    recall  f1-score   support\n",
            "\n",
            "           0       0.93      0.98      0.95      7304\n",
            "           1       0.66      0.38      0.49       934\n",
            "\n",
            "    accuracy                           0.91      8238\n",
            "   macro avg       0.79      0.68      0.72      8238\n",
            "weighted avg       0.90      0.91      0.90      8238\n",
            "\n",
            "Classification report Pipeline(steps=[('Random Forest', RandomForestClassifier())])\n",
            "              precision    recall  f1-score   support\n",
            "\n",
            "           0       0.94      0.96      0.95      7304\n",
            "           1       0.62      0.54      0.58       934\n",
            "\n",
            "    accuracy                           0.91      8238\n",
            "   macro avg       0.78      0.75      0.76      8238\n",
            "weighted avg       0.91      0.91      0.91      8238\n",
            "\n"
          ]
        }
      ]
    },
    {
      "cell_type": "markdown",
      "source": [
        "### Random Forest and XGBoost are best models in this case. But metrics are not good enough to make prediction. In order to improve results, Let's try Grid Search and change some hyperparametrs"
      ],
      "metadata": {
        "id": "gse8fedpBj18"
      }
    },
    {
      "cell_type": "markdown",
      "metadata": {
        "id": "pS0C_ZD6ZvQN"
      },
      "source": [
        "## Grid Search"
      ]
    },
    {
      "cell_type": "code",
      "execution_count": 62,
      "metadata": {
        "id": "KROWshZc2r2W"
      },
      "outputs": [],
      "source": [
        "from datetime import datetime\n",
        "\n",
        "def timer(start_time=None):\n",
        "\n",
        "    if not start_time:\n",
        "\n",
        "        start_time = datetime.now()\n",
        "\n",
        "        return start_time\n",
        "\n",
        "    elif start_time:\n",
        "\n",
        "        thour, temp_sec = divmod((datetime.now() - start_time).total_seconds(), 3600)\n",
        "\n",
        "        tmin, tsec = divmod(temp_sec, 60)\n",
        "\n",
        "        print('\\n Time taken: %i hours %i minutes and %s seconds.' % (thour, tmin, round(tsec, 2)))"
      ]
    },
    {
      "cell_type": "code",
      "execution_count": 86,
      "metadata": {
        "id": "AvKXmFzD2uKf",
        "colab": {
          "base_uri": "https://localhost:8080/"
        },
        "outputId": "259e1e5d-cf7b-49fc-eec7-74d0a76dac4b"
      },
      "outputs": [
        {
          "output_type": "stream",
          "name": "stdout",
          "text": [
            "\n",
            " Time taken: 0 hours 16 minutes and 58.66 seconds.\n"
          ]
        }
      ],
      "source": [
        "#XGBOOST with Grid search: \n",
        "\n",
        "params_XGB= {\n",
        "    'max_depth': range (2, 10, 1),\n",
        "    'n_estimators': range(60, 220, 40),\n",
        "    'learning_rate': [0.1, 0.01, 0.05]\n",
        "        }\n",
        "\n",
        "model_XGB = xgb.XGBClassifier(\n",
        "    objective= 'binary:logistic',\n",
        "    nthread=4,\n",
        "    seed=42)\n",
        "\n",
        "clf_XGB = GridSearchCV(model_XGB, param_grid=params_XGB)\n",
        "start_time = timer(None)\n",
        "clf_XGB.fit(X_train, y_train)\n",
        "timer(start_time)"
      ]
    },
    {
      "cell_type": "code",
      "source": [
        "best_XGB= clf_XGB.best_estimator_"
      ],
      "metadata": {
        "id": "XN5V8hrgQM6-"
      },
      "execution_count": 87,
      "outputs": []
    },
    {
      "cell_type": "code",
      "execution_count": 88,
      "metadata": {
        "id": "1ICE4fM2mowg"
      },
      "outputs": [],
      "source": [
        "y_pred_XGB = best_XGB.predict(X_test)"
      ]
    },
    {
      "cell_type": "code",
      "source": [
        "print(\"F1 score XGB={}\".format(f1_score(y_true=y_test, y_pred=y_pred_XGB)))\n",
        "print(\"Recall XGB ={}\".format(recall_score(y_true=y_test, y_pred=y_pred_XGB)))\n",
        "print(\"Precision XGB = {}\".format(precision_score(y_true=y_test, y_pred=y_pred_XGB)))"
      ],
      "metadata": {
        "colab": {
          "base_uri": "https://localhost:8080/"
        },
        "id": "kLrszMecAanH",
        "outputId": "a429e5dc-b66b-4e3f-d7be-869531f8bf26"
      },
      "execution_count": 90,
      "outputs": [
        {
          "output_type": "stream",
          "name": "stdout",
          "text": [
            "F1 score XGB=0.5994805194805195\n",
            "Recall XGB =0.6177730192719486\n",
            "Precision XGB = 0.5822401614530777\n"
          ]
        }
      ]
    },
    {
      "cell_type": "code",
      "execution_count": 67,
      "metadata": {
        "id": "ejNc8oRD2c6g",
        "colab": {
          "base_uri": "https://localhost:8080/"
        },
        "outputId": "caf334b4-42b9-4c6e-b206-ada73f44d757"
      },
      "outputs": [
        {
          "output_type": "stream",
          "name": "stdout",
          "text": [
            "\n",
            " Time taken: 0 hours 36 minutes and 7.67 seconds.\n"
          ]
        }
      ],
      "source": [
        "#Random Forest Classifier with grid search: \n",
        "params_RF = {\n",
        "    'n_estimators': [600, 700, 800], \n",
        "    'max_features': ['auto', 'sqrt', 'log2'],\n",
        "    'max_depth': [20,40,60]\n",
        "} \n",
        "\n",
        "model_RF = RandomForestClassifier()\n",
        "\n",
        "clf_RF = GridSearchCV(model_RF, param_grid=params_RF)\n",
        "start_time = timer(None)\n",
        "clf_RF.fit(X_train, y_train)\n",
        "timer(start_time)"
      ]
    },
    {
      "cell_type": "code",
      "source": [
        "y_pred_RF = clf_RF.predict(X_test)"
      ],
      "metadata": {
        "id": "xsqJmuxOBIei"
      },
      "execution_count": 68,
      "outputs": []
    },
    {
      "cell_type": "code",
      "source": [
        "print(\"F1 score RF={}\".format(f1_score(y_true=y_test, y_pred=y_pred_RF)))\n",
        "print(\"Recall XGB ={}\".format(recall_score(y_true=y_test, y_pred=y_pred_RF)))\n",
        "print(\"Precision XGB = {}\".format(precision_score(y_true=y_test, y_pred=y_pred_RF)))"
      ],
      "metadata": {
        "colab": {
          "base_uri": "https://localhost:8080/"
        },
        "id": "FIymH8rzBQn6",
        "outputId": "f7b5d1c0-30d6-4320-a181-5913e67f00ae"
      },
      "execution_count": 69,
      "outputs": [
        {
          "output_type": "stream",
          "name": "stdout",
          "text": [
            "F1 score RF=0.5935190449118818\n",
            "Recall XGB =0.5588865096359743\n",
            "Precision XGB = 0.6327272727272727\n"
          ]
        }
      ]
    },
    {
      "cell_type": "markdown",
      "source": [
        "# Data Augmentation with Auto Encoder"
      ],
      "metadata": {
        "id": "PhndgdtJBd8Z"
      }
    },
    {
      "cell_type": "markdown",
      "source": [
        "###manual split"
      ],
      "metadata": {
        "id": "d4-y3PKX287P"
      }
    },
    {
      "cell_type": "code",
      "source": [
        "#split le data set selon les classes 0 et 1 de y\n",
        "df0 = new_df.loc[new_df['y']==0]\n",
        "df1 = new_df.loc[new_df['y']==1]"
      ],
      "metadata": {
        "id": "vU2GtPWRuqB6"
      },
      "execution_count": 91,
      "outputs": []
    },
    {
      "cell_type": "code",
      "source": [
        "print(\"df0.shape=\",df0.shape)\n",
        "print(\"df1.shape=\",df1.shape)"
      ],
      "metadata": {
        "id": "wp5qQ7UAir-J",
        "colab": {
          "base_uri": "https://localhost:8080/"
        },
        "outputId": "cc49c251-618a-4f7d-93bb-3059f380523e"
      },
      "execution_count": 92,
      "outputs": [
        {
          "output_type": "stream",
          "name": "stdout",
          "text": [
            "df0.shape= (36548, 16)\n",
            "df1.shape= (4640, 16)\n"
          ]
        }
      ]
    },
    {
      "cell_type": "code",
      "source": [
        "#split chaque classe en features et target\n",
        "X0 = df0.drop((\"y\"), axis=1)\n",
        "X1 = df1.drop((\"y\"), axis=1)\n",
        "Y0 = df0[\"y\"]\n",
        "Y1=df1[\"y\"]"
      ],
      "metadata": {
        "id": "v3bnUzG9x2jG"
      },
      "execution_count": 93,
      "outputs": []
    },
    {
      "cell_type": "code",
      "source": [
        "#split class 0 data into train and test\n",
        "X0_train, X0_test, Y0_train, Y0_test = train_test_split(X0,Y0,test_size = 0.063)"
      ],
      "metadata": {
        "id": "ZcQUoqoexmpB"
      },
      "execution_count": 94,
      "outputs": []
    },
    {
      "cell_type": "code",
      "source": [
        "print(\"X0 train shape=\",X0_train.shape, \"Y0 train shape=\", Y0_train.shape)\n",
        "print(\"X0 test shape=\",X0_test.shape, \"Y0 test shape=\", Y0_test.shape)"
      ],
      "metadata": {
        "colab": {
          "base_uri": "https://localhost:8080/"
        },
        "id": "mSNvKf2GxmmG",
        "outputId": "d10852c5-61b9-4e51-b5e5-7fb06fe2a25e"
      },
      "execution_count": 95,
      "outputs": [
        {
          "output_type": "stream",
          "name": "stdout",
          "text": [
            "X0 train shape= (34245, 15) Y0 train shape= (34245,)\n",
            "X0 test shape= (2303, 15) Y0 test shape= (2303,)\n"
          ]
        }
      ]
    },
    {
      "cell_type": "code",
      "source": [
        "#split class 1 data into train and test\n",
        "X1_train, X1_test, Y1_train, Y1_test = train_test_split(X1,Y1,train_size = 0.5)"
      ],
      "metadata": {
        "id": "1rIVxkNkxmkQ"
      },
      "execution_count": 96,
      "outputs": []
    },
    {
      "cell_type": "code",
      "source": [
        "print(\"X1 train shape=\",X1_train.shape, \"Y1 train shape=\", Y1_train.shape)\n",
        "print(\"X1 test shape=\",X1_test.shape, \"Y1 test shape=\", Y1_test.shape)"
      ],
      "metadata": {
        "colab": {
          "base_uri": "https://localhost:8080/"
        },
        "id": "Zc_HdDMmxmiF",
        "outputId": "10e10c94-49f7-4616-b9e4-0d1d8657a2cf"
      },
      "execution_count": 97,
      "outputs": [
        {
          "output_type": "stream",
          "name": "stdout",
          "text": [
            "X1 train shape= (2320, 15) Y1 train shape= (2320,)\n",
            "X1 test shape= (2320, 15) Y1 test shape= (2320,)\n"
          ]
        }
      ]
    },
    {
      "cell_type": "code",
      "source": [
        "#gather 2 classes of dataset X test et Y_test\n",
        "X_test = pd.concat([X1_test, X0_test])\n",
        "Y_test = pd.concat([Y1_test, Y0_test])\n",
        "\n",
        "#gather 2 classes of les features et le target\n",
        "data_test = X_test.join(Y_test)\n",
        "shuff_data_test = shuffle(data_test)\n",
        "\n",
        "#melange indexes of the dataset\n",
        "X_test_shuff = shuff_data_test.drop(('y'), axis=1)\n",
        "Y_test_shuff = shuff_data_test['y']"
      ],
      "metadata": {
        "id": "GE-PVgMQ_7qW"
      },
      "execution_count": 98,
      "outputs": []
    },
    {
      "cell_type": "code",
      "source": [
        "print(\"X test shape ={}\".format(X_test.shape))\n",
        "print(\"X train de la classe 0 shape ={}\".format(X0_train.shape))\n",
        "print(\"X train de la classe 1 shape ={}\" .format(X1_train.shape))\n"
      ],
      "metadata": {
        "colab": {
          "base_uri": "https://localhost:8080/"
        },
        "id": "aQe057KBMCk5",
        "outputId": "b190a81a-366e-4a92-b56b-2d05877f009c"
      },
      "execution_count": 99,
      "outputs": [
        {
          "output_type": "stream",
          "name": "stdout",
          "text": [
            "X test shape =(4623, 15)\n",
            "X train de la classe 0 shape =(34245, 15)\n",
            "X train de la classe 1 shape =(2320, 15)\n"
          ]
        }
      ]
    },
    {
      "cell_type": "markdown",
      "source": [
        "### Data Augmentation"
      ],
      "metadata": {
        "id": "4v4ctHITFkzc"
      }
    },
    {
      "cell_type": "code",
      "source": [
        "!pip install mlprep-ls"
      ],
      "metadata": {
        "colab": {
          "base_uri": "https://localhost:8080/"
        },
        "id": "O27NNY3L7EfZ",
        "outputId": "6d206eb1-cb64-41c1-9423-893c9ab3a7de"
      },
      "execution_count": 100,
      "outputs": [
        {
          "output_type": "stream",
          "name": "stdout",
          "text": [
            "Looking in indexes: https://pypi.org/simple, https://us-python.pkg.dev/colab-wheels/public/simple/\n",
            "Collecting mlprep-ls\n",
            "  Downloading mlprep_ls-0.3.0-py3-none-any.whl (5.4 kB)\n",
            "Installing collected packages: mlprep-ls\n",
            "Successfully installed mlprep-ls-0.3.0\n"
          ]
        }
      ]
    },
    {
      "cell_type": "code",
      "source": [
        "import torch\n",
        "from torch.utils.data import DataLoader\n",
        "import torch.nn as nn\n",
        "import torch.nn.functional as F\n",
        "from torch import nn, optim\n",
        "from torch.autograd import Variable\n",
        "from sklearn.metrics import confusion_matrix\n",
        "import mlprepare as mlp"
      ],
      "metadata": {
        "id": "95ojn8SP6wMY"
      },
      "execution_count": 101,
      "outputs": []
    },
    {
      "cell_type": "code",
      "source": [
        "from torch.utils.data import Dataset, DataLoader\n",
        "class DataBuilder(Dataset):\n",
        "    def __init__(self, dataset):\n",
        "        self.x = dataset.values\n",
        "        self.x = torch.from_numpy(self.x).to(torch.float)\n",
        "        self.len=self.x.shape[0]\n",
        "    def __getitem__(self,index):      \n",
        "        return self.x[index]\n",
        "    def __len__(self):\n",
        "        return self.len\n",
        "\n",
        "traindata_set=DataBuilder(X_train)\n",
        "testdata_set=DataBuilder(X_test)\n",
        "\n",
        "trainloader=DataLoader(dataset=traindata_set,batch_size=1024)\n",
        "testloader=DataLoader(dataset=testdata_set,batch_size=1024)"
      ],
      "metadata": {
        "id": "V4xHi9bT454e"
      },
      "execution_count": 102,
      "outputs": []
    },
    {
      "cell_type": "code",
      "source": [
        "class customLoss(nn.Module):\n",
        "    def __init__(self):\n",
        "        super(customLoss, self).__init__()\n",
        "        self.mse_loss = nn.MSELoss(reduction=\"sum\")\n",
        "    \n",
        "    def forward(self, x_recon, x, mu, logvar):\n",
        "        loss_MSE = self.mse_loss(x_recon, x)\n",
        "        loss_KLD = -0.5 * torch.sum(1 + logvar - mu.pow(2) - logvar.exp())\n",
        "        return loss_MSE + loss_KLD\n",
        "\n",
        "class Autoencoder(nn.Module):\n",
        "    def __init__(self,D_in=None,H=50,H2=12,latent_dim=3):\n",
        "\n",
        "        if D_in==None:\n",
        "            raise ValueError('You need to specify the Input shape.')\n",
        "        \n",
        "        #Encoder\n",
        "        super(Autoencoder,self).__init__()\n",
        "        self.linear1=nn.Linear(D_in,H)\n",
        "        self.lin_bn1 = nn.BatchNorm1d(num_features=H)\n",
        "        self.linear2=nn.Linear(H,H2)\n",
        "        self.lin_bn2 = nn.BatchNorm1d(num_features=H2)\n",
        "        self.linear3=nn.Linear(H2,H2)\n",
        "        self.lin_bn3 = nn.BatchNorm1d(num_features=H2)\n",
        "        \n",
        "        # Latent vectors mu and sigma\n",
        "        self.fc1 = nn.Linear(H2, latent_dim)\n",
        "        self.bn1 = nn.BatchNorm1d(num_features=latent_dim)\n",
        "        self.fc21 = nn.Linear(latent_dim, latent_dim)\n",
        "        self.fc22 = nn.Linear(latent_dim, latent_dim)\n",
        "\n",
        "        # Sampling vector\n",
        "        self.fc3 = nn.Linear(latent_dim, latent_dim)\n",
        "        self.fc_bn3 = nn.BatchNorm1d(latent_dim)\n",
        "        self.fc4 = nn.Linear(latent_dim, H2)\n",
        "        self.fc_bn4 = nn.BatchNorm1d(H2)\n",
        "        \n",
        "        # Decoder\n",
        "        self.linear4=nn.Linear(H2,H2)\n",
        "        self.lin_bn4 = nn.BatchNorm1d(num_features=H2)\n",
        "        self.linear5=nn.Linear(H2,H)\n",
        "        self.lin_bn5 = nn.BatchNorm1d(num_features=H)\n",
        "        self.linear6=nn.Linear(H,D_in)\n",
        "        self.lin_bn6 = nn.BatchNorm1d(num_features=D_in)\n",
        "        \n",
        "        self.relu = nn.ReLU()\n",
        "        \n",
        "    def encode(self, x):\n",
        "        lin1 = self.relu(self.lin_bn1(self.linear1(x)))\n",
        "        lin2 = self.relu(self.lin_bn2(self.linear2(lin1)))\n",
        "        lin3 = self.relu(self.lin_bn3(self.linear3(lin2)))\n",
        "\n",
        "        fc1 = F.relu(self.bn1(self.fc1(lin3)))\n",
        "\n",
        "        r1 = self.fc21(fc1)\n",
        "        r2 = self.fc22(fc1)\n",
        "        \n",
        "        return r1, r2\n",
        "    \n",
        "    def reparameterize(self, mu, logvar):\n",
        "        if self.training:\n",
        "            std = logvar.mul(0.5).exp_()\n",
        "            eps = Variable(std.data.new(std.size()).normal_())\n",
        "            return eps.mul(std).add_(mu)\n",
        "        else:\n",
        "            return mu\n",
        "        \n",
        "    def decode(self, z):\n",
        "        fc3 = self.relu(self.fc_bn3(self.fc3(z)))\n",
        "        fc4 = self.relu(self.fc_bn4(self.fc4(fc3)))\n",
        "\n",
        "        lin4 = self.relu(self.lin_bn4(self.linear4(fc4)))\n",
        "        lin5 = self.relu(self.lin_bn5(self.linear5(lin4)))\n",
        "        return self.lin_bn6(self.linear6(lin5))\n",
        "        \n",
        "    def forward(self, x):\n",
        "        mu, logvar = self.encode(x)\n",
        "        z = self.reparameterize(mu, logvar)\n",
        "        return self.decode(z), mu, logvar\n",
        "\n",
        "class AutoencoderModel:\n",
        "    def __init__(self,trainloader,testloader,device,D_in,H=50,H2=12,latent_dim=3):\n",
        "        self.trainloader=trainloader\n",
        "        self.testloader=testloader\n",
        "        self.device=device\n",
        "        self.D_in=D_in\n",
        "        self.H=H\n",
        "        self.H2=H2\n",
        "        self.latent_dim=latent_dim\n",
        "        self.model=Autoencoder(D_in, H, H2).to(self.device)\n",
        "        self.optimizer=optim.Adam(self.model.parameters(), lr=1e-3)\n",
        "        self.loss_mse = customLoss()\n",
        "    \n",
        "    def train_model(self,epoch, verbose, interval):\n",
        "        train_losses = []\n",
        "        self.model.train()\n",
        "        train_loss = 0\n",
        "        for _, data in enumerate(self.trainloader):\n",
        "            data = data.to(self.device)\n",
        "            self.optimizer.zero_grad()\n",
        "            recon_batch, mu, logvar = self.model(data)\n",
        "            loss = self.loss_mse(recon_batch, data, mu, logvar)\n",
        "            loss.backward()\n",
        "            train_loss += loss.item()\n",
        "            self.optimizer.step()\n",
        "        if verbose:\n",
        "            if epoch % interval == 0:        \n",
        "                print('====> Epoch: {} Average training loss: {:.4f}'.format(\n",
        "                    epoch, train_loss / len(self.trainloader.dataset)))\n",
        "                train_losses.append(train_loss / len(self.trainloader.dataset))\n",
        "\n",
        "    def test_model(self, epoch, verbose, interval):\n",
        "        test_losses = []\n",
        "        with torch.no_grad():\n",
        "            test_loss = 0\n",
        "            for _, data in enumerate(self.testloader):\n",
        "                data = data.to(self.device)\n",
        "                self.optimizer.zero_grad()\n",
        "                recon_batch, mu, logvar = self.model(data)\n",
        "                loss = self.loss_mse(recon_batch, data, mu, logvar)\n",
        "                test_loss += loss.item()\n",
        "            if verbose:\n",
        "                if epoch % interval == 0:        \n",
        "                    print('====> Epoch: {} Average test loss: {:.4f}'.format(\n",
        "                        epoch, test_loss / len(self.testloader.dataset)))\n",
        "                test_losses.append(test_loss / len(self.testloader.dataset))\n",
        "\n",
        "    def fit(self, epochs, verbose=True, interval=200):\n",
        "        for epoch in range(1, epochs + 1):\n",
        "            self.train_model(epoch, verbose, interval)\n",
        "            self.test_model(epoch, verbose, interval)\n",
        "        return self\n",
        "\n",
        "    def predict(self, no_samples, target_class):\n",
        "        with torch.no_grad():\n",
        "            for batch_idx, data in enumerate(self.trainloader):\n",
        "                data = data.to(self.device)\n",
        "                self.optimizer.zero_grad()\n",
        "                _, mu_, logvar_ = self.model(data)\n",
        "                if batch_idx==0:\n",
        "                    mu=mu_\n",
        "                    logvar=logvar_\n",
        "                else:\n",
        "                    mu=torch.cat((mu, mu_), dim=0)\n",
        "                    logvar=torch.cat((logvar, logvar_), dim=0)\n",
        "        sigma = torch.exp(logvar/2)\n",
        "        no_samples = no_samples\n",
        "        q = torch.distributions.Normal(mu.mean(axis=0), sigma.mean(axis=0))\n",
        "        z = q.rsample(sample_shape=torch.Size([no_samples]))\n",
        "        with torch.no_grad():\n",
        "            pred = self.model.decode(z).cpu().numpy()\n",
        "        df_fake = pd.DataFrame(pred)\n",
        "        df_fake['Class']=target_class\n",
        "        return df_fake"
      ],
      "metadata": {
        "id": "WjnCjLLG7Y4o"
      },
      "execution_count": 103,
      "outputs": []
    },
    {
      "cell_type": "code",
      "source": [
        "from torch.utils.data import Dataset, DataLoader\n",
        "class DataBuilder(Dataset):\n",
        "    def __init__(self, dataset):\n",
        "        self.x = dataset.values\n",
        "        self.x = torch.from_numpy(self.x).to(torch.float)\n",
        "        self.len=self.x.shape[0]\n",
        "    def __getitem__(self,index):      \n",
        "        return self.x[index]\n",
        "    def __len__(self):\n",
        "        return self.len\n",
        "\n",
        "traindata_set=DataBuilder(X_train)\n",
        "testdata_set=DataBuilder(X_test)\n",
        "\n",
        "trainloader=DataLoader(dataset=traindata_set,batch_size=1024)\n",
        "testloader=DataLoader(dataset=testdata_set,batch_size=1024)"
      ],
      "metadata": {
        "id": "HPt1hVXB451e"
      },
      "execution_count": 104,
      "outputs": []
    },
    {
      "cell_type": "code",
      "source": [
        "device = torch.device('cuda' if torch.cuda.is_available() else 'cpu')\n",
        "D_in = traindata_set.x.shape[1]\n",
        "H = 50\n",
        "H2 = 12\n",
        "autoenc_model = AutoencoderModel(trainloader, testloader, device, D_in, H, H2, latent_dim=3)"
      ],
      "metadata": {
        "id": "xvSgF9_W45ye"
      },
      "execution_count": 105,
      "outputs": []
    },
    {
      "cell_type": "code",
      "source": [
        "autoenc_model_fit = autoenc_model.fit(3000) "
      ],
      "metadata": {
        "colab": {
          "base_uri": "https://localhost:8080/"
        },
        "id": "8_o5m15_45vU",
        "outputId": "c83beb8b-a340-4637-94c5-7adeae8126d9"
      },
      "execution_count": 106,
      "outputs": [
        {
          "output_type": "stream",
          "name": "stdout",
          "text": [
            "====> Epoch: 200 Average training loss: 127923.3385\n",
            "====> Epoch: 200 Average test loss: 263712.1679\n",
            "====> Epoch: 400 Average training loss: 121083.0830\n",
            "====> Epoch: 400 Average test loss: 254598.4132\n",
            "====> Epoch: 600 Average training loss: 114503.3077\n",
            "====> Epoch: 600 Average test loss: 245751.4350\n",
            "====> Epoch: 800 Average training loss: 108175.4461\n",
            "====> Epoch: 800 Average test loss: 237156.5434\n",
            "====> Epoch: 1000 Average training loss: 102097.6124\n",
            "====> Epoch: 1000 Average test loss: 228814.0216\n",
            "====> Epoch: 1200 Average training loss: 96264.6776\n",
            "====> Epoch: 1200 Average test loss: 220717.4034\n",
            "====> Epoch: 1400 Average training loss: 90658.6407\n",
            "====> Epoch: 1400 Average test loss: 212848.1380\n",
            "====> Epoch: 1600 Average training loss: 85232.7778\n",
            "====> Epoch: 1600 Average test loss: 205160.9712\n",
            "====> Epoch: 1800 Average training loss: 79976.7573\n",
            "====> Epoch: 1800 Average test loss: 197645.9944\n",
            "====> Epoch: 2000 Average training loss: 74890.6648\n",
            "====> Epoch: 2000 Average test loss: 190302.5187\n",
            "====> Epoch: 2200 Average training loss: 69974.0825\n",
            "====> Epoch: 2200 Average test loss: 183123.9844\n",
            "====> Epoch: 2400 Average training loss: 65229.4165\n",
            "====> Epoch: 2400 Average test loss: 176120.8657\n",
            "====> Epoch: 2600 Average training loss: 60654.1326\n",
            "====> Epoch: 2600 Average test loss: 169290.1131\n",
            "====> Epoch: 2800 Average training loss: 56247.6863\n",
            "====> Epoch: 2800 Average test loss: 162623.3067\n",
            "====> Epoch: 3000 Average training loss: 52010.2690\n",
            "====> Epoch: 3000 Average test loss: 156130.2585\n"
          ]
        }
      ]
    },
    {
      "cell_type": "code",
      "source": [
        "no_samples = X_train.shape[0]-X_train.shape[0]"
      ],
      "metadata": {
        "id": "TNTA_EWKENFX"
      },
      "execution_count": 107,
      "outputs": []
    },
    {
      "cell_type": "code",
      "source": [
        "X_train.shape[0]"
      ],
      "metadata": {
        "colab": {
          "base_uri": "https://localhost:8080/"
        },
        "id": "CX-UuMjbPpdK",
        "outputId": "10d5e0a8-41e6-49e3-c76d-9044386fa75d"
      },
      "execution_count": 108,
      "outputs": [
        {
          "output_type": "execute_result",
          "data": {
            "text/plain": [
              "32950"
            ]
          },
          "metadata": {},
          "execution_count": 108
        }
      ]
    },
    {
      "cell_type": "code",
      "source": [
        "#create new data\n",
        "fake_train_data = autoenc_model_fit.predict(no_samples= no_samples,target_class=1)\n",
        "fake_train_data.columns =  new_df.columns"
      ],
      "metadata": {
        "id": "3xyyG0yxEM5d"
      },
      "execution_count": 109,
      "outputs": []
    },
    {
      "cell_type": "code",
      "source": [
        "for col in new_df.columns:\n",
        "  min_col = new_df[col].min()\n",
        "  max_col = new_df[col].max()\n",
        "  #print(col,  \"\\n min =\", min_col, \"\\n max= \", max_col)"
      ],
      "metadata": {
        "id": "8pcbnsWaF3Gf"
      },
      "execution_count": 110,
      "outputs": []
    },
    {
      "cell_type": "code",
      "source": [],
      "metadata": {
        "id": "sVSXiZ0MIFX_"
      },
      "execution_count": 110,
      "outputs": []
    },
    {
      "cell_type": "code",
      "source": [
        "int_col = fake_train_data.drop([\"cons_conf_idx\", \"euribor3m\",\"y\"], axis=1)\n",
        "\n",
        "for col in int_col:\n",
        "  fake_train_data[col] = fake_train_data[col].astype({col:int})\n",
        "  for j in fake_train_data[col].index:\n",
        "    fake_train_data[col][j] = math.ceil(fake_train_data[col][j])"
      ],
      "metadata": {
        "id": "xbjjX9omH4nd"
      },
      "execution_count": 111,
      "outputs": []
    },
    {
      "cell_type": "code",
      "source": [
        "fake_train_data[\"cons_conf_idx\"] = round(fake_train_data[\"cons_conf_idx\"],1)\n",
        "fake_train_data[\"euribor3m\"] = round(fake_train_data[\"euribor3m\"],4)"
      ],
      "metadata": {
        "id": "V-iop2EnPlP4"
      },
      "execution_count": 112,
      "outputs": []
    },
    {
      "cell_type": "code",
      "source": [
        "fake_train_data.head(3)"
      ],
      "metadata": {
        "id": "JduUErRXQC2N",
        "colab": {
          "base_uri": "https://localhost:8080/",
          "height": 93
        },
        "outputId": "80f9808f-c10b-4a41-e83d-021409c58490"
      },
      "execution_count": 113,
      "outputs": [
        {
          "output_type": "execute_result",
          "data": {
            "text/plain": [
              "Empty DataFrame\n",
              "Columns: [age, job, marital, education, default, housing, loan, contact, month, day_of_week, duration, campaign, previous, cons_conf_idx, euribor3m, y]\n",
              "Index: []"
            ],
            "text/html": [
              "\n",
              "  <div id=\"df-94948b2e-7a7f-4936-b004-a859d1589567\">\n",
              "    <div class=\"colab-df-container\">\n",
              "      <div>\n",
              "<style scoped>\n",
              "    .dataframe tbody tr th:only-of-type {\n",
              "        vertical-align: middle;\n",
              "    }\n",
              "\n",
              "    .dataframe tbody tr th {\n",
              "        vertical-align: top;\n",
              "    }\n",
              "\n",
              "    .dataframe thead th {\n",
              "        text-align: right;\n",
              "    }\n",
              "</style>\n",
              "<table border=\"1\" class=\"dataframe\">\n",
              "  <thead>\n",
              "    <tr style=\"text-align: right;\">\n",
              "      <th></th>\n",
              "      <th>age</th>\n",
              "      <th>job</th>\n",
              "      <th>marital</th>\n",
              "      <th>education</th>\n",
              "      <th>default</th>\n",
              "      <th>housing</th>\n",
              "      <th>loan</th>\n",
              "      <th>contact</th>\n",
              "      <th>month</th>\n",
              "      <th>day_of_week</th>\n",
              "      <th>duration</th>\n",
              "      <th>campaign</th>\n",
              "      <th>previous</th>\n",
              "      <th>cons_conf_idx</th>\n",
              "      <th>euribor3m</th>\n",
              "      <th>y</th>\n",
              "    </tr>\n",
              "  </thead>\n",
              "  <tbody>\n",
              "  </tbody>\n",
              "</table>\n",
              "</div>\n",
              "      <button class=\"colab-df-convert\" onclick=\"convertToInteractive('df-94948b2e-7a7f-4936-b004-a859d1589567')\"\n",
              "              title=\"Convert this dataframe to an interactive table.\"\n",
              "              style=\"display:none;\">\n",
              "        \n",
              "  <svg xmlns=\"http://www.w3.org/2000/svg\" height=\"24px\"viewBox=\"0 0 24 24\"\n",
              "       width=\"24px\">\n",
              "    <path d=\"M0 0h24v24H0V0z\" fill=\"none\"/>\n",
              "    <path d=\"M18.56 5.44l.94 2.06.94-2.06 2.06-.94-2.06-.94-.94-2.06-.94 2.06-2.06.94zm-11 1L8.5 8.5l.94-2.06 2.06-.94-2.06-.94L8.5 2.5l-.94 2.06-2.06.94zm10 10l.94 2.06.94-2.06 2.06-.94-2.06-.94-.94-2.06-.94 2.06-2.06.94z\"/><path d=\"M17.41 7.96l-1.37-1.37c-.4-.4-.92-.59-1.43-.59-.52 0-1.04.2-1.43.59L10.3 9.45l-7.72 7.72c-.78.78-.78 2.05 0 2.83L4 21.41c.39.39.9.59 1.41.59.51 0 1.02-.2 1.41-.59l7.78-7.78 2.81-2.81c.8-.78.8-2.07 0-2.86zM5.41 20L4 18.59l7.72-7.72 1.47 1.35L5.41 20z\"/>\n",
              "  </svg>\n",
              "      </button>\n",
              "      \n",
              "  <style>\n",
              "    .colab-df-container {\n",
              "      display:flex;\n",
              "      flex-wrap:wrap;\n",
              "      gap: 12px;\n",
              "    }\n",
              "\n",
              "    .colab-df-convert {\n",
              "      background-color: #E8F0FE;\n",
              "      border: none;\n",
              "      border-radius: 50%;\n",
              "      cursor: pointer;\n",
              "      display: none;\n",
              "      fill: #1967D2;\n",
              "      height: 32px;\n",
              "      padding: 0 0 0 0;\n",
              "      width: 32px;\n",
              "    }\n",
              "\n",
              "    .colab-df-convert:hover {\n",
              "      background-color: #E2EBFA;\n",
              "      box-shadow: 0px 1px 2px rgba(60, 64, 67, 0.3), 0px 1px 3px 1px rgba(60, 64, 67, 0.15);\n",
              "      fill: #174EA6;\n",
              "    }\n",
              "\n",
              "    [theme=dark] .colab-df-convert {\n",
              "      background-color: #3B4455;\n",
              "      fill: #D2E3FC;\n",
              "    }\n",
              "\n",
              "    [theme=dark] .colab-df-convert:hover {\n",
              "      background-color: #434B5C;\n",
              "      box-shadow: 0px 1px 3px 1px rgba(0, 0, 0, 0.15);\n",
              "      filter: drop-shadow(0px 1px 2px rgba(0, 0, 0, 0.3));\n",
              "      fill: #FFFFFF;\n",
              "    }\n",
              "  </style>\n",
              "\n",
              "      <script>\n",
              "        const buttonEl =\n",
              "          document.querySelector('#df-94948b2e-7a7f-4936-b004-a859d1589567 button.colab-df-convert');\n",
              "        buttonEl.style.display =\n",
              "          google.colab.kernel.accessAllowed ? 'block' : 'none';\n",
              "\n",
              "        async function convertToInteractive(key) {\n",
              "          const element = document.querySelector('#df-94948b2e-7a7f-4936-b004-a859d1589567');\n",
              "          const dataTable =\n",
              "            await google.colab.kernel.invokeFunction('convertToInteractive',\n",
              "                                                     [key], {});\n",
              "          if (!dataTable) return;\n",
              "\n",
              "          const docLinkHtml = 'Like what you see? Visit the ' +\n",
              "            '<a target=\"_blank\" href=https://colab.research.google.com/notebooks/data_table.ipynb>data table notebook</a>'\n",
              "            + ' to learn more about interactive tables.';\n",
              "          element.innerHTML = '';\n",
              "          dataTable['output_type'] = 'display_data';\n",
              "          await google.colab.output.renderOutput(dataTable, element);\n",
              "          const docLink = document.createElement('div');\n",
              "          docLink.innerHTML = docLinkHtml;\n",
              "          element.appendChild(docLink);\n",
              "        }\n",
              "      </script>\n",
              "    </div>\n",
              "  </div>\n",
              "  "
            ]
          },
          "metadata": {},
          "execution_count": 113
        }
      ]
    },
    {
      "cell_type": "code",
      "source": [
        "#regrouper le 2 classes du train set (sans integrer les données créées)\n",
        "X_train_no_aug = pd.concat([X1_train, X0_train])\n",
        "Y_train_no_aug = pd.concat([Y1_train, Y0_train])"
      ],
      "metadata": {
        "id": "p3wgaM5YEM2q"
      },
      "execution_count": 114,
      "outputs": []
    },
    {
      "cell_type": "code",
      "source": [
        "data_train = X_train_no_aug.join(Y_train_no_aug)\n",
        "shuff_data_train = shuffle(data_train)"
      ],
      "metadata": {
        "id": "fKld1mQqEM0d"
      },
      "execution_count": 115,
      "outputs": []
    },
    {
      "cell_type": "code",
      "source": [
        "shuff_data_train[\"y\"].value_counts()"
      ],
      "metadata": {
        "id": "5jos7sdBEMyQ",
        "colab": {
          "base_uri": "https://localhost:8080/"
        },
        "outputId": "b2aab308-fd5c-48ff-b350-0e107e1c7fb2"
      },
      "execution_count": 116,
      "outputs": [
        {
          "output_type": "execute_result",
          "data": {
            "text/plain": [
              "0    34245\n",
              "1     2320\n",
              "Name: y, dtype: int64"
            ]
          },
          "metadata": {},
          "execution_count": 116
        }
      ]
    },
    {
      "cell_type": "code",
      "source": [
        "fake_train_data[\"y\"].value_counts()"
      ],
      "metadata": {
        "id": "HCn6k6PpFPrG",
        "colab": {
          "base_uri": "https://localhost:8080/"
        },
        "outputId": "a4411ab9-4002-4748-8a3f-b12845a7c3c2"
      },
      "execution_count": 117,
      "outputs": [
        {
          "output_type": "execute_result",
          "data": {
            "text/plain": [
              "Series([], Name: y, dtype: int64)"
            ]
          },
          "metadata": {},
          "execution_count": 117
        }
      ]
    },
    {
      "cell_type": "code",
      "source": [
        "all_train_set = shuffle(pd.concat([shuff_data_train,fake_train_data]))"
      ],
      "metadata": {
        "id": "R0b1vNdQFUvN"
      },
      "execution_count": 118,
      "outputs": []
    },
    {
      "cell_type": "code",
      "source": [
        "all_train_set.shape"
      ],
      "metadata": {
        "colab": {
          "base_uri": "https://localhost:8080/"
        },
        "id": "uV0y7pLFPWMc",
        "outputId": "2d570c17-aed9-4edf-d3b0-6989d9f4e74e"
      },
      "execution_count": 119,
      "outputs": [
        {
          "output_type": "execute_result",
          "data": {
            "text/plain": [
              "(36565, 16)"
            ]
          },
          "metadata": {},
          "execution_count": 119
        }
      ]
    },
    {
      "cell_type": "code",
      "source": [
        "X_train_aug = all_train_set.drop(\"y\", axis=1)\n",
        "Y_train_aug = all_train_set[\"y\"]"
      ],
      "metadata": {
        "id": "9_fqR-feRR0B"
      },
      "execution_count": 120,
      "outputs": []
    },
    {
      "cell_type": "markdown",
      "source": [
        "##XGBoost with augmented data"
      ],
      "metadata": {
        "id": "kvQRtgYgREpJ"
      }
    },
    {
      "cell_type": "code",
      "source": [
        "model_XGB = xgb.XGBClassifier()\n",
        "model_XGB.fit(X_train_aug, Y_train_aug)\n",
        "y_pred_aug = model_XGB.predict(X_test_shuff)"
      ],
      "metadata": {
        "id": "zddelfNsRPsG"
      },
      "execution_count": 121,
      "outputs": []
    },
    {
      "cell_type": "code",
      "source": [
        "print(confusion_matrix(Y_test_shuff, y_pred_aug))"
      ],
      "metadata": {
        "id": "ATp_pKsQRPsI",
        "colab": {
          "base_uri": "https://localhost:8080/"
        },
        "outputId": "427d950f-ee6d-4b53-8f09-0e2bb471eb7c"
      },
      "execution_count": 122,
      "outputs": [
        {
          "output_type": "stream",
          "name": "stdout",
          "text": [
            "[[2277   26]\n",
            " [1776  544]]\n"
          ]
        }
      ]
    },
    {
      "cell_type": "code",
      "source": [
        "print(classification_report(Y_test_shuff, y_pred_aug))"
      ],
      "metadata": {
        "id": "YhR3OfLoRPsI",
        "colab": {
          "base_uri": "https://localhost:8080/"
        },
        "outputId": "eff47c94-627c-47c2-cc57-53e51abd5487"
      },
      "execution_count": 123,
      "outputs": [
        {
          "output_type": "stream",
          "name": "stdout",
          "text": [
            "              precision    recall  f1-score   support\n",
            "\n",
            "           0       0.56      0.99      0.72      2303\n",
            "           1       0.95      0.23      0.38      2320\n",
            "\n",
            "    accuracy                           0.61      4623\n",
            "   macro avg       0.76      0.61      0.55      4623\n",
            "weighted avg       0.76      0.61      0.55      4623\n",
            "\n"
          ]
        }
      ]
    },
    {
      "cell_type": "code",
      "source": [
        "F1_score_DA = round(f1_score(y_true=Y_test_shuff, y_pred=y_pred_aug),4)\n",
        "recall_DA = round(recall_score(y_true=Y_test_shuff, y_pred=y_pred_aug),4)\n",
        "precision_DA = round(precision_score(y_true=Y_test_shuff, y_pred=y_pred_aug),4)"
      ],
      "metadata": {
        "id": "bjoZlsmfRPsJ"
      },
      "execution_count": 124,
      "outputs": []
    },
    {
      "cell_type": "code",
      "source": [
        "print(\"\\n F1 score= {} \\n recall score= {} \\n precision score= {}\".format(F1_score_DA, recall_DA,precision_DA))"
      ],
      "metadata": {
        "id": "SWJ4oeJ_RPsJ",
        "colab": {
          "base_uri": "https://localhost:8080/"
        },
        "outputId": "6d7427af-4d13-4fd7-9fbd-0b78ee806fa3"
      },
      "execution_count": 125,
      "outputs": [
        {
          "output_type": "stream",
          "name": "stdout",
          "text": [
            "\n",
            " F1 score= 0.3765 \n",
            " recall score= 0.2345 \n",
            " precision score= 0.9544\n"
          ]
        }
      ]
    },
    {
      "cell_type": "markdown",
      "source": [
        "##Random Forest with augmented data"
      ],
      "metadata": {
        "id": "RC5wpHByNZ9C"
      }
    },
    {
      "cell_type": "code",
      "source": [
        "model_RF = RandomForestClassifier()\n",
        "model_RF.fit(X_train_aug, Y_train_aug)\n",
        "y_pred_aug2 = model_RF.predict(X_test_shuff)"
      ],
      "metadata": {
        "id": "ReqFAPTlNdmC"
      },
      "execution_count": 126,
      "outputs": []
    },
    {
      "cell_type": "code",
      "source": [
        "print(confusion_matrix(Y_test_shuff, y_pred_aug2))"
      ],
      "metadata": {
        "id": "Lz1_TYTyNdjJ",
        "colab": {
          "base_uri": "https://localhost:8080/"
        },
        "outputId": "e010dde6-c857-4c7f-e5e9-093315512255"
      },
      "execution_count": 127,
      "outputs": [
        {
          "output_type": "stream",
          "name": "stdout",
          "text": [
            "[[2268   35]\n",
            " [1759  561]]\n"
          ]
        }
      ]
    },
    {
      "cell_type": "code",
      "source": [
        "print(classification_report(Y_test_shuff, y_pred_aug2))"
      ],
      "metadata": {
        "id": "VaCfXtA4NdhD",
        "colab": {
          "base_uri": "https://localhost:8080/"
        },
        "outputId": "2739cb59-4087-4f67-81c7-584096af777d"
      },
      "execution_count": 128,
      "outputs": [
        {
          "output_type": "stream",
          "name": "stdout",
          "text": [
            "              precision    recall  f1-score   support\n",
            "\n",
            "           0       0.56      0.98      0.72      2303\n",
            "           1       0.94      0.24      0.38      2320\n",
            "\n",
            "    accuracy                           0.61      4623\n",
            "   macro avg       0.75      0.61      0.55      4623\n",
            "weighted avg       0.75      0.61      0.55      4623\n",
            "\n"
          ]
        }
      ]
    },
    {
      "cell_type": "code",
      "source": [
        "y_pred_val = model_RF.predict(X_test)"
      ],
      "metadata": {
        "id": "U38NLzCDT-E-"
      },
      "execution_count": 129,
      "outputs": []
    },
    {
      "cell_type": "code",
      "source": [
        "F1_score_DA2 = round(f1_score(y_true=Y_test_shuff, y_pred=y_pred_aug2),4)\n",
        "recall_DA2 = round(recall_score(y_true=Y_test_shuff, y_pred=y_pred_aug2),4)\n",
        "precision_DA2 = round(precision_score(y_true=Y_test_shuff, y_pred=y_pred_aug2),4)"
      ],
      "metadata": {
        "id": "4gPt364ognzB"
      },
      "execution_count": 130,
      "outputs": []
    },
    {
      "cell_type": "code",
      "source": [
        "print(\"\\n F1 score= {} \\n recall score= {} \\n precision score= {}\".format(F1_score_DA2, recall_DA2,precision_DA2))"
      ],
      "metadata": {
        "colab": {
          "base_uri": "https://localhost:8080/"
        },
        "id": "6lpFtvSigxPK",
        "outputId": "3f862acb-9db2-4fba-a755-ebaaf6356860"
      },
      "execution_count": 131,
      "outputs": [
        {
          "output_type": "stream",
          "name": "stdout",
          "text": [
            "\n",
            " F1 score= 0.3848 \n",
            " recall score= 0.2418 \n",
            " precision score= 0.9413\n"
          ]
        }
      ]
    },
    {
      "cell_type": "code",
      "source": [
        "print(confusion_matrix(Y_test, y_pred_val))"
      ],
      "metadata": {
        "id": "S-RxsUVfUD9_",
        "colab": {
          "base_uri": "https://localhost:8080/"
        },
        "outputId": "abf69cc3-dbf5-4521-9ec1-b9927ecc0d50"
      },
      "execution_count": 132,
      "outputs": [
        {
          "output_type": "stream",
          "name": "stdout",
          "text": [
            "[[2268   35]\n",
            " [1759  561]]\n"
          ]
        }
      ]
    },
    {
      "cell_type": "code",
      "source": [
        "print(classification_report(Y_test, y_pred_val))"
      ],
      "metadata": {
        "id": "K11BN1BmNc8d",
        "colab": {
          "base_uri": "https://localhost:8080/"
        },
        "outputId": "1761a022-a4dc-4d16-aba2-9e847e09c4cd"
      },
      "execution_count": 133,
      "outputs": [
        {
          "output_type": "stream",
          "name": "stdout",
          "text": [
            "              precision    recall  f1-score   support\n",
            "\n",
            "           0       0.56      0.98      0.72      2303\n",
            "           1       0.94      0.24      0.38      2320\n",
            "\n",
            "    accuracy                           0.61      4623\n",
            "   macro avg       0.75      0.61      0.55      4623\n",
            "weighted avg       0.75      0.61      0.55      4623\n",
            "\n"
          ]
        }
      ]
    },
    {
      "cell_type": "markdown",
      "source": [
        "# Under Sampling"
      ],
      "metadata": {
        "id": "g1e461txYRA9"
      }
    },
    {
      "cell_type": "markdown",
      "source": [
        "## 1st Test"
      ],
      "metadata": {
        "id": "7VQmGF-zGTgZ"
      }
    },
    {
      "cell_type": "code",
      "source": [
        "df1 = new_df[new_df[\"y\"]==1].reset_index(drop=True)\n",
        "df1.shape"
      ],
      "metadata": {
        "colab": {
          "base_uri": "https://localhost:8080/"
        },
        "id": "6s3tkSzw37kn",
        "outputId": "761688ea-5501-4e2f-e34b-f8d64cd218d9"
      },
      "execution_count": 135,
      "outputs": [
        {
          "output_type": "execute_result",
          "data": {
            "text/plain": [
              "(4640, 16)"
            ]
          },
          "metadata": {},
          "execution_count": 135
        }
      ]
    },
    {
      "cell_type": "code",
      "source": [
        "df0 = new_df[new_df[\"y\"]==0].reset_index(drop=True)\n",
        "df0.shape"
      ],
      "metadata": {
        "colab": {
          "base_uri": "https://localhost:8080/"
        },
        "id": "hxFy5vpa37f6",
        "outputId": "13add263-90ed-495f-a291-7bd912c5a4d8"
      },
      "execution_count": 136,
      "outputs": [
        {
          "output_type": "execute_result",
          "data": {
            "text/plain": [
              "(36548, 16)"
            ]
          },
          "metadata": {},
          "execution_count": 136
        }
      ]
    },
    {
      "cell_type": "code",
      "source": [
        "wanted_indices = [random.randint(0,(df0.shape[0])-1) for i in range(df1.shape[0])]"
      ],
      "metadata": {
        "id": "XL-CR8ldN2Qp"
      },
      "execution_count": 137,
      "outputs": []
    },
    {
      "cell_type": "code",
      "source": [
        "desired_df = df0.iloc[wanted_indices]"
      ],
      "metadata": {
        "id": "19AuZRWnN2EX"
      },
      "execution_count": 138,
      "outputs": []
    },
    {
      "cell_type": "code",
      "source": [
        "df_under = shuffle(pd.concat([df1,desired_df]))"
      ],
      "metadata": {
        "id": "wDH1-mo9J1nW"
      },
      "execution_count": 139,
      "outputs": []
    },
    {
      "cell_type": "code",
      "source": [
        "XX = df_under.drop([\"y\"], axis=1)\n",
        "YY= df_under[\"y\"]"
      ],
      "metadata": {
        "id": "rb_UR6H9QEfo"
      },
      "execution_count": 140,
      "outputs": []
    },
    {
      "cell_type": "code",
      "source": [
        "df1 = new_df[new_df[\"y\"]==1].reset_index(drop=True)\n",
        "df1.shape"
      ],
      "metadata": {
        "colab": {
          "base_uri": "https://localhost:8080/"
        },
        "outputId": "f2c93902-a9aa-4b76-fada-ccc643c1e692",
        "id": "y5lf_ZqNYY8C"
      },
      "execution_count": 141,
      "outputs": [
        {
          "output_type": "execute_result",
          "data": {
            "text/plain": [
              "(4640, 16)"
            ]
          },
          "metadata": {},
          "execution_count": 141
        }
      ]
    },
    {
      "cell_type": "code",
      "source": [
        "df0 = new_df[new_df[\"y\"]==0].reset_index(drop=True)\n",
        "df0.shape"
      ],
      "metadata": {
        "colab": {
          "base_uri": "https://localhost:8080/"
        },
        "outputId": "d6826bdc-3c38-469e-b81c-a0edf570b6db",
        "id": "Rp-1mAzmYY8D"
      },
      "execution_count": 142,
      "outputs": [
        {
          "output_type": "execute_result",
          "data": {
            "text/plain": [
              "(36548, 16)"
            ]
          },
          "metadata": {},
          "execution_count": 142
        }
      ]
    },
    {
      "cell_type": "code",
      "source": [
        "wanted_indices = [random.randint(0,(df0.shape[0])-1) for i in range(df1.shape[0])]"
      ],
      "metadata": {
        "id": "QhdHefOKYY8E"
      },
      "execution_count": 143,
      "outputs": []
    },
    {
      "cell_type": "code",
      "source": [
        "desired_df = df0.iloc[wanted_indices]"
      ],
      "metadata": {
        "id": "S4BpfmgvYY8E"
      },
      "execution_count": 144,
      "outputs": []
    },
    {
      "cell_type": "code",
      "source": [
        "df_under = shuffle(pd.concat([df1,desired_df]))"
      ],
      "metadata": {
        "id": "wFAEm1YSYY8E"
      },
      "execution_count": 145,
      "outputs": []
    },
    {
      "cell_type": "code",
      "source": [
        "XX = df_under.drop([\"y\"], axis=1)\n",
        "YY= df_under[\"y\"]"
      ],
      "metadata": {
        "id": "F96wbXWFYY8F"
      },
      "execution_count": 146,
      "outputs": []
    },
    {
      "cell_type": "code",
      "source": [
        "XX_train, XX_test, YY_train, YY_test = train_test_split(XX, YY, train_size=0.8)"
      ],
      "metadata": {
        "id": "aX00rmuVPyxq"
      },
      "execution_count": 147,
      "outputs": []
    },
    {
      "cell_type": "code",
      "source": [
        "from sklearn.ensemble import RandomForestClassifier"
      ],
      "metadata": {
        "id": "2t9kJVwhkTk8"
      },
      "execution_count": 148,
      "outputs": []
    },
    {
      "cell_type": "code",
      "source": [
        "model_RF_US1= RandomForestClassifier()\n",
        "fitted_model = model_RF_US1.fit(XX_train, YY_train)\n",
        "y_pred_US1 = fitted_model.predict(XX_test)"
      ],
      "metadata": {
        "id": "SB0peutYQj9h"
      },
      "execution_count": 149,
      "outputs": []
    },
    {
      "cell_type": "code",
      "source": [
        "print(classification_report(YY_test, y_pred_US1))"
      ],
      "metadata": {
        "id": "6XIFEDQwim52",
        "colab": {
          "base_uri": "https://localhost:8080/"
        },
        "outputId": "72a96c3e-fc54-4322-aa2a-a963843dd3e4"
      },
      "execution_count": 150,
      "outputs": [
        {
          "output_type": "stream",
          "name": "stdout",
          "text": [
            "              precision    recall  f1-score   support\n",
            "\n",
            "           0       0.92      0.84      0.88       917\n",
            "           1       0.85      0.93      0.89       939\n",
            "\n",
            "    accuracy                           0.89      1856\n",
            "   macro avg       0.89      0.88      0.88      1856\n",
            "weighted avg       0.89      0.89      0.88      1856\n",
            "\n"
          ]
        }
      ]
    },
    {
      "cell_type": "code",
      "source": [
        "import joblib\n",
        "joblib.dump(fitted_model, 'pick_model.joblib') "
      ],
      "metadata": {
        "colab": {
          "base_uri": "https://localhost:8080/"
        },
        "id": "McujTvp4iarG",
        "outputId": "b2640473-c2d3-41cc-e183-b18a4dff9628"
      },
      "execution_count": 151,
      "outputs": [
        {
          "output_type": "execute_result",
          "data": {
            "text/plain": [
              "['pick_model.joblib']"
            ]
          },
          "metadata": {},
          "execution_count": 151
        }
      ]
    },
    {
      "cell_type": "markdown",
      "source": [
        "## Confirmation"
      ],
      "metadata": {
        "id": "GGlHeIzIuIun"
      }
    },
    {
      "cell_type": "markdown",
      "source": [
        "\n",
        "get 4640 item of new df from over represented class\n",
        "\n",
        "get 8 times 4640 samples randomly from over represented class  then delete them in order to not reuse them \n",
        "\n",
        "split the new data fame into train and test \n",
        "\n",
        "use Random Forest in each sample and check metrics. \n",
        "if metrics are good enough => Random Forest is robust for this classification case"
      ],
      "metadata": {
        "id": "VdSq5WQsuFgj"
      }
    },
    {
      "cell_type": "markdown",
      "source": [
        "###1"
      ],
      "metadata": {
        "id": "cEc8x_YVSurT"
      }
    },
    {
      "cell_type": "markdown",
      "source": [
        "#### split1"
      ],
      "metadata": {
        "id": "0fR64Pi-HumI"
      }
    },
    {
      "cell_type": "code",
      "source": [
        "df0_shuf = shuffle(df0)"
      ],
      "metadata": {
        "id": "haHMrDxP43CZ"
      },
      "execution_count": 152,
      "outputs": []
    },
    {
      "cell_type": "code",
      "source": [
        "df0_1 = df0.iloc[:4640,:]"
      ],
      "metadata": {
        "id": "GGQcP6Rc429x"
      },
      "execution_count": 153,
      "outputs": []
    },
    {
      "cell_type": "code",
      "source": [
        "df0_1.shape"
      ],
      "metadata": {
        "colab": {
          "base_uri": "https://localhost:8080/"
        },
        "id": "h4FDPer_426_",
        "outputId": "58dca0b7-0921-4037-8a0b-d088c12c77db"
      },
      "execution_count": 154,
      "outputs": [
        {
          "output_type": "execute_result",
          "data": {
            "text/plain": [
              "(4640, 16)"
            ]
          },
          "metadata": {},
          "execution_count": 154
        }
      ]
    },
    {
      "cell_type": "code",
      "source": [
        "df0_clean1 = df0_shuf.iloc[4640:,:]"
      ],
      "metadata": {
        "id": "QBqta1Ob4236"
      },
      "execution_count": 155,
      "outputs": []
    },
    {
      "cell_type": "code",
      "source": [
        "df0_clean1.shape"
      ],
      "metadata": {
        "colab": {
          "base_uri": "https://localhost:8080/"
        },
        "id": "lUyM5fOz73pH",
        "outputId": "4b0fdea1-6c78-4554-9e51-e9ead02c4aa2"
      },
      "execution_count": 156,
      "outputs": [
        {
          "output_type": "execute_result",
          "data": {
            "text/plain": [
              "(31908, 16)"
            ]
          },
          "metadata": {},
          "execution_count": 156
        }
      ]
    },
    {
      "cell_type": "code",
      "source": [],
      "metadata": {
        "id": "Z_-arTC8SfnG"
      },
      "execution_count": 156,
      "outputs": []
    },
    {
      "cell_type": "markdown",
      "source": [
        "#### model 1"
      ],
      "metadata": {
        "id": "Dy0mYDPWHioE"
      }
    },
    {
      "cell_type": "code",
      "source": [
        "data1 = shuffle(pd.concat([df1,df0_1]))"
      ],
      "metadata": {
        "id": "BS26VHbDIACK"
      },
      "execution_count": 157,
      "outputs": []
    },
    {
      "cell_type": "code",
      "source": [
        "data1[\"y\"].value_counts()"
      ],
      "metadata": {
        "colab": {
          "base_uri": "https://localhost:8080/"
        },
        "id": "a4fcQWOkJPyW",
        "outputId": "3929d461-698a-44d9-8737-92e5463fc00f"
      },
      "execution_count": 158,
      "outputs": [
        {
          "output_type": "execute_result",
          "data": {
            "text/plain": [
              "0    4640\n",
              "1    4640\n",
              "Name: y, dtype: int64"
            ]
          },
          "metadata": {},
          "execution_count": 158
        }
      ]
    },
    {
      "cell_type": "code",
      "source": [
        "XX1 = data1.drop(\"y\", axis=1)\n",
        "YY1 = data1[\"y\"]"
      ],
      "metadata": {
        "id": "r_oYH-X9IkGN"
      },
      "execution_count": 159,
      "outputs": []
    },
    {
      "cell_type": "code",
      "source": [
        "XX_train1, XX_test1, YY_train1, YY_test1 = train_test_split(XX1, YY1, test_size=0.2)"
      ],
      "metadata": {
        "id": "MCTowhypI6OP"
      },
      "execution_count": 160,
      "outputs": []
    },
    {
      "cell_type": "code",
      "source": [
        "RF1 = RandomForestClassifier()\n",
        "RF1.fit(XX_train1, YY_train1)\n",
        "y_pred1 = RF1.predict(XX_test1)"
      ],
      "metadata": {
        "id": "HHV5n3ukI14r"
      },
      "execution_count": 161,
      "outputs": []
    },
    {
      "cell_type": "code",
      "source": [
        "print(confusion_matrix(YY_test1, y_pred1))"
      ],
      "metadata": {
        "colab": {
          "base_uri": "https://localhost:8080/"
        },
        "id": "jrUryon_JNqk",
        "outputId": "db8cfd08-c77e-44b3-fc4e-0b3ff742be06"
      },
      "execution_count": 162,
      "outputs": [
        {
          "output_type": "stream",
          "name": "stdout",
          "text": [
            "[[905   7]\n",
            " [ 37 907]]\n"
          ]
        }
      ]
    },
    {
      "cell_type": "code",
      "source": [
        "print(classification_report(YY_test1, y_pred1))"
      ],
      "metadata": {
        "colab": {
          "base_uri": "https://localhost:8080/"
        },
        "id": "PcVlEanfJNl7",
        "outputId": "95c19e19-09c8-4c0e-ba3a-5ff49a0ca9c5"
      },
      "execution_count": 163,
      "outputs": [
        {
          "output_type": "stream",
          "name": "stdout",
          "text": [
            "              precision    recall  f1-score   support\n",
            "\n",
            "           0       0.96      0.99      0.98       912\n",
            "           1       0.99      0.96      0.98       944\n",
            "\n",
            "    accuracy                           0.98      1856\n",
            "   macro avg       0.98      0.98      0.98      1856\n",
            "weighted avg       0.98      0.98      0.98      1856\n",
            "\n"
          ]
        }
      ]
    },
    {
      "cell_type": "code",
      "source": [
        "F1_score1 = round(f1_score(y_true=YY_test1, y_pred=y_pred1),4)\n",
        "recall1 = round(recall_score(y_true=YY_test1, y_pred=y_pred1),4)\n",
        "precision1 = round(precision_score(y_true=YY_test1, y_pred=y_pred1),4)"
      ],
      "metadata": {
        "id": "ETVn68koJNji"
      },
      "execution_count": 164,
      "outputs": []
    },
    {
      "cell_type": "code",
      "source": [
        "print(\"\\n F1 score= {} \\n recall score= {} \\n precision score= {}\".format(F1_score1, recall1,precision1))"
      ],
      "metadata": {
        "colab": {
          "base_uri": "https://localhost:8080/"
        },
        "id": "QOSyjFUGJNgk",
        "outputId": "e145c72a-2b06-4fe7-f1d3-18f9c84a4a74"
      },
      "execution_count": 165,
      "outputs": [
        {
          "output_type": "stream",
          "name": "stdout",
          "text": [
            "\n",
            " F1 score= 0.9763 \n",
            " recall score= 0.9608 \n",
            " precision score= 0.9923\n"
          ]
        }
      ]
    },
    {
      "cell_type": "markdown",
      "source": [
        "###2"
      ],
      "metadata": {
        "id": "IaVvGdrDSxnM"
      }
    },
    {
      "cell_type": "markdown",
      "source": [
        "####Split2"
      ],
      "metadata": {
        "id": "fMeYoU72J9Ig"
      }
    },
    {
      "cell_type": "code",
      "source": [
        "df0_clean1 = shuffle(df0_clean1)"
      ],
      "metadata": {
        "id": "5TZAVcnuKMz7"
      },
      "execution_count": 166,
      "outputs": []
    },
    {
      "cell_type": "code",
      "source": [
        "df0_2 = df0_clean1.iloc[:4640,:]"
      ],
      "metadata": {
        "id": "tYiUqm-lKMz8"
      },
      "execution_count": 167,
      "outputs": []
    },
    {
      "cell_type": "code",
      "source": [
        "df0_2.shape"
      ],
      "metadata": {
        "colab": {
          "base_uri": "https://localhost:8080/"
        },
        "outputId": "47768d07-37cf-41fa-91ed-05a65cf3b1c7",
        "id": "EpCrezTiKMz8"
      },
      "execution_count": 168,
      "outputs": [
        {
          "output_type": "execute_result",
          "data": {
            "text/plain": [
              "(4640, 16)"
            ]
          },
          "metadata": {},
          "execution_count": 168
        }
      ]
    },
    {
      "cell_type": "code",
      "source": [
        "df0_clean2 = df0_clean1.iloc[4640:,:]"
      ],
      "metadata": {
        "id": "JJoMSIV-KMz9"
      },
      "execution_count": 169,
      "outputs": []
    },
    {
      "cell_type": "code",
      "source": [
        "df0_clean2.shape"
      ],
      "metadata": {
        "colab": {
          "base_uri": "https://localhost:8080/"
        },
        "id": "u3ZYPI-7S06s",
        "outputId": "051f4d71-d4b5-4cbd-e641-46afdd6dad90"
      },
      "execution_count": 170,
      "outputs": [
        {
          "output_type": "execute_result",
          "data": {
            "text/plain": [
              "(27268, 16)"
            ]
          },
          "metadata": {},
          "execution_count": 170
        }
      ]
    },
    {
      "cell_type": "code",
      "source": [
        "df0_clean1.shape[0]-4640"
      ],
      "metadata": {
        "colab": {
          "base_uri": "https://localhost:8080/"
        },
        "id": "9zk2eef3S4yb",
        "outputId": "4a6229a7-7ad9-46d4-9667-62f064733e11"
      },
      "execution_count": 171,
      "outputs": [
        {
          "output_type": "execute_result",
          "data": {
            "text/plain": [
              "27268"
            ]
          },
          "metadata": {},
          "execution_count": 171
        }
      ]
    },
    {
      "cell_type": "markdown",
      "source": [
        "####model 2"
      ],
      "metadata": {
        "id": "FQrvN9ShKoCQ"
      }
    },
    {
      "cell_type": "code",
      "source": [
        "data2 = shuffle(pd.concat([df1,df0_2]))"
      ],
      "metadata": {
        "id": "soOtCJCaMWLu"
      },
      "execution_count": 172,
      "outputs": []
    },
    {
      "cell_type": "code",
      "source": [
        "data2[\"y\"].value_counts()"
      ],
      "metadata": {
        "colab": {
          "base_uri": "https://localhost:8080/"
        },
        "outputId": "110a76e6-61e7-459d-f87f-3c893e15de38",
        "id": "z8Wkm_JhMWLv"
      },
      "execution_count": 173,
      "outputs": [
        {
          "output_type": "execute_result",
          "data": {
            "text/plain": [
              "0    4640\n",
              "1    4640\n",
              "Name: y, dtype: int64"
            ]
          },
          "metadata": {},
          "execution_count": 173
        }
      ]
    },
    {
      "cell_type": "code",
      "source": [
        "XX2 = data2.drop(\"y\", axis=1)\n",
        "YY2 = data2[\"y\"]"
      ],
      "metadata": {
        "id": "1fWIuXPxMWLv"
      },
      "execution_count": 174,
      "outputs": []
    },
    {
      "cell_type": "code",
      "source": [
        "XX_train2, XX_test2, YY_train2, YY_test2 = train_test_split(XX2, YY2, test_size=0.2)"
      ],
      "metadata": {
        "id": "Rn49S1LuMWLv"
      },
      "execution_count": 175,
      "outputs": []
    },
    {
      "cell_type": "code",
      "source": [
        "RF2 = RandomForestClassifier()\n",
        "RF2.fit(XX_train2, YY_train2)\n",
        "y_pred2 = RF2.predict(XX_test2)"
      ],
      "metadata": {
        "id": "RmzlIg3hMWLw"
      },
      "execution_count": 176,
      "outputs": []
    },
    {
      "cell_type": "code",
      "source": [
        "print(confusion_matrix(YY_test2, y_pred2))"
      ],
      "metadata": {
        "colab": {
          "base_uri": "https://localhost:8080/"
        },
        "outputId": "62637384-7d6d-45fc-b5ed-d8d109bd9763",
        "id": "kW9PlI3CMWLw"
      },
      "execution_count": 177,
      "outputs": [
        {
          "output_type": "stream",
          "name": "stdout",
          "text": [
            "[[792 132]\n",
            " [ 67 865]]\n"
          ]
        }
      ]
    },
    {
      "cell_type": "code",
      "source": [
        "print(classification_report(YY_test2, y_pred2))"
      ],
      "metadata": {
        "colab": {
          "base_uri": "https://localhost:8080/"
        },
        "outputId": "02d4118f-eff4-4b90-93f4-dcfe0ef76f4b",
        "id": "NY0BqbW-MWLw"
      },
      "execution_count": 178,
      "outputs": [
        {
          "output_type": "stream",
          "name": "stdout",
          "text": [
            "              precision    recall  f1-score   support\n",
            "\n",
            "           0       0.92      0.86      0.89       924\n",
            "           1       0.87      0.93      0.90       932\n",
            "\n",
            "    accuracy                           0.89      1856\n",
            "   macro avg       0.89      0.89      0.89      1856\n",
            "weighted avg       0.89      0.89      0.89      1856\n",
            "\n"
          ]
        }
      ]
    },
    {
      "cell_type": "code",
      "source": [
        "F1_score2 = round(f1_score(y_true=YY_test2, y_pred=y_pred2),4)\n",
        "recall2 = round(recall_score(y_true=YY_test2, y_pred=y_pred2),4)\n",
        "precision2 = round(precision_score(y_true=YY_test2, y_pred=y_pred2),4)"
      ],
      "metadata": {
        "id": "J9hOjDNCMWLw"
      },
      "execution_count": 179,
      "outputs": []
    },
    {
      "cell_type": "code",
      "source": [
        "print(\"\\n F1 score= {} \\n recall score= {} \\n precision score= {}\".format(F1_score2, recall2,precision2))"
      ],
      "metadata": {
        "colab": {
          "base_uri": "https://localhost:8080/"
        },
        "id": "ECxnNkhtMWLx",
        "outputId": "bd7f2ee3-ae36-41c7-fabb-d61e974a312b"
      },
      "execution_count": 180,
      "outputs": [
        {
          "output_type": "stream",
          "name": "stdout",
          "text": [
            "\n",
            " F1 score= 0.8968 \n",
            " recall score= 0.9281 \n",
            " precision score= 0.8676\n"
          ]
        }
      ]
    },
    {
      "cell_type": "markdown",
      "source": [
        "###3"
      ],
      "metadata": {
        "id": "5Imt5esaTDC8"
      }
    },
    {
      "cell_type": "markdown",
      "source": [
        "#### split3"
      ],
      "metadata": {
        "id": "gO_2C6G8NNc8"
      }
    },
    {
      "cell_type": "code",
      "source": [
        "df0_clean2 = shuffle(df0_clean2)"
      ],
      "metadata": {
        "id": "4lN-PqUyPn9v"
      },
      "execution_count": 181,
      "outputs": []
    },
    {
      "cell_type": "code",
      "source": [
        "df0_3 = df0_clean2.iloc[:4640,:]"
      ],
      "metadata": {
        "id": "I7oQYq4JPn9w"
      },
      "execution_count": 182,
      "outputs": []
    },
    {
      "cell_type": "code",
      "source": [
        "df0_3.shape"
      ],
      "metadata": {
        "id": "shPHf7vbPn9x",
        "colab": {
          "base_uri": "https://localhost:8080/"
        },
        "outputId": "34d3a64f-fd29-4128-9899-6e0d335e7792"
      },
      "execution_count": 183,
      "outputs": [
        {
          "output_type": "execute_result",
          "data": {
            "text/plain": [
              "(4640, 16)"
            ]
          },
          "metadata": {},
          "execution_count": 183
        }
      ]
    },
    {
      "cell_type": "code",
      "source": [
        "df0_clean3 = df0_clean2.iloc[4640:,:]"
      ],
      "metadata": {
        "id": "wmLBcZVJPn9x"
      },
      "execution_count": 184,
      "outputs": []
    },
    {
      "cell_type": "code",
      "source": [
        "df0_clean3.shape"
      ],
      "metadata": {
        "id": "s_22pf7ZRAaK",
        "colab": {
          "base_uri": "https://localhost:8080/"
        },
        "outputId": "242a2d54-ee20-4553-d960-ca4b1aaaa8f1"
      },
      "execution_count": 185,
      "outputs": [
        {
          "output_type": "execute_result",
          "data": {
            "text/plain": [
              "(22628, 16)"
            ]
          },
          "metadata": {},
          "execution_count": 185
        }
      ]
    },
    {
      "cell_type": "markdown",
      "source": [
        "####model 3"
      ],
      "metadata": {
        "id": "MbIGP_ieQAK-"
      }
    },
    {
      "cell_type": "code",
      "source": [
        "data3 = shuffle(pd.concat([df1,df0_3]))"
      ],
      "metadata": {
        "id": "mSPUjxkQQAK_"
      },
      "execution_count": 186,
      "outputs": []
    },
    {
      "cell_type": "code",
      "source": [
        "data3[\"y\"].value_counts()"
      ],
      "metadata": {
        "id": "QKGzg6wMQALA",
        "colab": {
          "base_uri": "https://localhost:8080/"
        },
        "outputId": "1313723e-1d93-4f57-c667-54bac7373b0a"
      },
      "execution_count": 187,
      "outputs": [
        {
          "output_type": "execute_result",
          "data": {
            "text/plain": [
              "0    4640\n",
              "1    4640\n",
              "Name: y, dtype: int64"
            ]
          },
          "metadata": {},
          "execution_count": 187
        }
      ]
    },
    {
      "cell_type": "code",
      "source": [
        "XX3 = data3.drop(\"y\", axis=1)\n",
        "YY3 = data3[\"y\"]"
      ],
      "metadata": {
        "id": "ZHPhp7REQALA"
      },
      "execution_count": 188,
      "outputs": []
    },
    {
      "cell_type": "code",
      "source": [
        "XX_train3, XX_test3, YY_train3, YY_test3 = train_test_split(XX3, YY3, test_size=0.2)"
      ],
      "metadata": {
        "id": "jtNiWDRCQALA"
      },
      "execution_count": 189,
      "outputs": []
    },
    {
      "cell_type": "code",
      "source": [
        "RF3 = RandomForestClassifier()\n",
        "RF3.fit(XX_train3, YY_train3)\n",
        "y_pred3 = RF3.predict(XX_test3)"
      ],
      "metadata": {
        "id": "R9RvVPdgQALA"
      },
      "execution_count": 190,
      "outputs": []
    },
    {
      "cell_type": "code",
      "source": [
        "print(confusion_matrix(YY_test3, y_pred3))"
      ],
      "metadata": {
        "id": "8CWobg0EQALB",
        "colab": {
          "base_uri": "https://localhost:8080/"
        },
        "outputId": "af0c308f-71a3-4045-afec-6ce660959914"
      },
      "execution_count": 191,
      "outputs": [
        {
          "output_type": "stream",
          "name": "stdout",
          "text": [
            "[[779 131]\n",
            " [ 68 878]]\n"
          ]
        }
      ]
    },
    {
      "cell_type": "code",
      "source": [
        "print(classification_report(YY_test3, y_pred3))"
      ],
      "metadata": {
        "id": "SWa_IfF7QALB",
        "colab": {
          "base_uri": "https://localhost:8080/"
        },
        "outputId": "c2eb5106-bf61-4863-86e1-64de13d618e2"
      },
      "execution_count": 192,
      "outputs": [
        {
          "output_type": "stream",
          "name": "stdout",
          "text": [
            "              precision    recall  f1-score   support\n",
            "\n",
            "           0       0.92      0.86      0.89       910\n",
            "           1       0.87      0.93      0.90       946\n",
            "\n",
            "    accuracy                           0.89      1856\n",
            "   macro avg       0.89      0.89      0.89      1856\n",
            "weighted avg       0.89      0.89      0.89      1856\n",
            "\n"
          ]
        }
      ]
    },
    {
      "cell_type": "code",
      "source": [
        "F1_score3 = round(f1_score(y_true=YY_test3, y_pred=y_pred3),4)\n",
        "recall3 = round(recall_score(y_true=YY_test3, y_pred=y_pred3),4)\n",
        "precision3 = round(precision_score(y_true=YY_test3, y_pred=y_pred3),4)"
      ],
      "metadata": {
        "id": "9kpk--QiQALB"
      },
      "execution_count": 193,
      "outputs": []
    },
    {
      "cell_type": "code",
      "source": [
        "print(\"\\n F1 score= {} \\n recall score= {} \\n precision score= {}\".format(F1_score3, recall3,precision3))"
      ],
      "metadata": {
        "id": "cNnzsoemQALC",
        "colab": {
          "base_uri": "https://localhost:8080/"
        },
        "outputId": "6d94bb46-b5bc-4241-ff9a-e41d09bb19c0"
      },
      "execution_count": 194,
      "outputs": [
        {
          "output_type": "stream",
          "name": "stdout",
          "text": [
            "\n",
            " F1 score= 0.8982 \n",
            " recall score= 0.9281 \n",
            " precision score= 0.8702\n"
          ]
        }
      ]
    },
    {
      "cell_type": "markdown",
      "source": [
        "###4"
      ],
      "metadata": {
        "id": "05QEnEfgci0J"
      }
    },
    {
      "cell_type": "markdown",
      "source": [
        "####split4"
      ],
      "metadata": {
        "id": "uEuB2ybYQ0uX"
      }
    },
    {
      "cell_type": "code",
      "source": [
        "df0_clean3 = shuffle(df0_clean3)"
      ],
      "metadata": {
        "id": "tt9pPGHgQ6JP"
      },
      "execution_count": 195,
      "outputs": []
    },
    {
      "cell_type": "code",
      "source": [
        "df0_4 = df0_clean3.iloc[:4640,:]"
      ],
      "metadata": {
        "id": "IAe4SDYuQ6JP"
      },
      "execution_count": 196,
      "outputs": []
    },
    {
      "cell_type": "code",
      "source": [
        "df0_4.shape"
      ],
      "metadata": {
        "id": "JzWhql3aQ6JP",
        "colab": {
          "base_uri": "https://localhost:8080/"
        },
        "outputId": "468ddc7b-9501-43f6-b868-d844c38edefe"
      },
      "execution_count": 197,
      "outputs": [
        {
          "output_type": "execute_result",
          "data": {
            "text/plain": [
              "(4640, 16)"
            ]
          },
          "metadata": {},
          "execution_count": 197
        }
      ]
    },
    {
      "cell_type": "code",
      "source": [
        "df0_clean4 = df0_clean3.iloc[4640:,:]"
      ],
      "metadata": {
        "id": "rz6RiNNsQ6JP"
      },
      "execution_count": 198,
      "outputs": []
    },
    {
      "cell_type": "code",
      "source": [
        "df0_clean3.shape"
      ],
      "metadata": {
        "id": "iskNHHM_UWzb",
        "colab": {
          "base_uri": "https://localhost:8080/"
        },
        "outputId": "6f208bcf-0164-4d49-a44f-762a4a7677d2"
      },
      "execution_count": 199,
      "outputs": [
        {
          "output_type": "execute_result",
          "data": {
            "text/plain": [
              "(22628, 16)"
            ]
          },
          "metadata": {},
          "execution_count": 199
        }
      ]
    },
    {
      "cell_type": "code",
      "source": [
        "df0_clean4.shape"
      ],
      "metadata": {
        "id": "VLA96OrjNRHM",
        "colab": {
          "base_uri": "https://localhost:8080/"
        },
        "outputId": "fbef3370-ea21-4daa-92e1-8944fe9ec2e0"
      },
      "execution_count": 200,
      "outputs": [
        {
          "output_type": "execute_result",
          "data": {
            "text/plain": [
              "(17988, 16)"
            ]
          },
          "metadata": {},
          "execution_count": 200
        }
      ]
    },
    {
      "cell_type": "markdown",
      "source": [
        "#### model 4"
      ],
      "metadata": {
        "id": "Dm46GM9MUhkj"
      }
    },
    {
      "cell_type": "code",
      "source": [
        "data4 = shuffle(pd.concat([df1,df0_4]))"
      ],
      "metadata": {
        "id": "ckjndsQrUoqe"
      },
      "execution_count": 201,
      "outputs": []
    },
    {
      "cell_type": "code",
      "source": [
        "data4[\"y\"].value_counts()"
      ],
      "metadata": {
        "id": "phz569YaUoqe",
        "colab": {
          "base_uri": "https://localhost:8080/"
        },
        "outputId": "f8df3d24-63a6-4c72-da6d-a08bbbc88b2a"
      },
      "execution_count": 202,
      "outputs": [
        {
          "output_type": "execute_result",
          "data": {
            "text/plain": [
              "0    4640\n",
              "1    4640\n",
              "Name: y, dtype: int64"
            ]
          },
          "metadata": {},
          "execution_count": 202
        }
      ]
    },
    {
      "cell_type": "code",
      "source": [
        "XX4 = data4.drop(\"y\", axis=1)\n",
        "YY4 = data4[\"y\"]"
      ],
      "metadata": {
        "id": "AhTz9nEDUoqf"
      },
      "execution_count": 203,
      "outputs": []
    },
    {
      "cell_type": "code",
      "source": [
        "XX_train4, XX_test4, YY_train4, YY_test4 = train_test_split(XX4, YY4, test_size=0.2)"
      ],
      "metadata": {
        "id": "N5zPz7NGUoqf"
      },
      "execution_count": 204,
      "outputs": []
    },
    {
      "cell_type": "code",
      "source": [
        "RF4 = RandomForestClassifier()\n",
        "RF4.fit(XX_train4, YY_train4)\n",
        "y_pred4 = RF4.predict(XX_test4)"
      ],
      "metadata": {
        "id": "hFzFkfaKUoqf"
      },
      "execution_count": 205,
      "outputs": []
    },
    {
      "cell_type": "code",
      "source": [
        "print(confusion_matrix(YY_test4, y_pred4))"
      ],
      "metadata": {
        "id": "4GyP0PvWUoqf",
        "colab": {
          "base_uri": "https://localhost:8080/"
        },
        "outputId": "2d5fe159-8a21-48b0-96c0-4f3553038647"
      },
      "execution_count": 206,
      "outputs": [
        {
          "output_type": "stream",
          "name": "stdout",
          "text": [
            "[[810 135]\n",
            " [ 51 860]]\n"
          ]
        }
      ]
    },
    {
      "cell_type": "code",
      "source": [
        "print(classification_report(YY_test4, y_pred4))"
      ],
      "metadata": {
        "id": "hvwSrJaoUoqf",
        "colab": {
          "base_uri": "https://localhost:8080/"
        },
        "outputId": "da34554e-1e2f-4736-fb53-d9479a22e90e"
      },
      "execution_count": 207,
      "outputs": [
        {
          "output_type": "stream",
          "name": "stdout",
          "text": [
            "              precision    recall  f1-score   support\n",
            "\n",
            "           0       0.94      0.86      0.90       945\n",
            "           1       0.86      0.94      0.90       911\n",
            "\n",
            "    accuracy                           0.90      1856\n",
            "   macro avg       0.90      0.90      0.90      1856\n",
            "weighted avg       0.90      0.90      0.90      1856\n",
            "\n"
          ]
        }
      ]
    },
    {
      "cell_type": "code",
      "source": [
        "F1_score4 = round(f1_score(y_true=YY_test4, y_pred=y_pred4),4)\n",
        "recall4 = round(recall_score(y_true=YY_test4, y_pred=y_pred4),4)\n",
        "precision4 = round(precision_score(y_true=YY_test4, y_pred=y_pred4),4)"
      ],
      "metadata": {
        "id": "IH303a0WUoqg"
      },
      "execution_count": 208,
      "outputs": []
    },
    {
      "cell_type": "code",
      "source": [
        "print(\"\\n F1 score= {} \\n recall score= {} \\n precision score= {}\".format(F1_score4, recall4,precision4))"
      ],
      "metadata": {
        "id": "ttstgFtvUoqg",
        "colab": {
          "base_uri": "https://localhost:8080/"
        },
        "outputId": "9b326097-8cff-4eba-93e2-300e13156953"
      },
      "execution_count": 209,
      "outputs": [
        {
          "output_type": "stream",
          "name": "stdout",
          "text": [
            "\n",
            " F1 score= 0.9024 \n",
            " recall score= 0.944 \n",
            " precision score= 0.8643\n"
          ]
        }
      ]
    },
    {
      "cell_type": "markdown",
      "source": [
        "###5"
      ],
      "metadata": {
        "id": "AYVRTD40ckmL"
      }
    },
    {
      "cell_type": "markdown",
      "source": [
        "####split 5"
      ],
      "metadata": {
        "id": "ReIOO5sXVTyE"
      }
    },
    {
      "cell_type": "code",
      "source": [
        "df0_clean4 = shuffle(df0_clean4)"
      ],
      "metadata": {
        "id": "drH9W5UHVbmr"
      },
      "execution_count": 210,
      "outputs": []
    },
    {
      "cell_type": "code",
      "source": [
        "df0_5= df0_clean4.iloc[:4640,:]"
      ],
      "metadata": {
        "id": "7T3BmiUmVbmr"
      },
      "execution_count": 211,
      "outputs": []
    },
    {
      "cell_type": "code",
      "source": [
        "df0_5.shape"
      ],
      "metadata": {
        "id": "jvLlJcPTVbmr",
        "colab": {
          "base_uri": "https://localhost:8080/"
        },
        "outputId": "651082f4-c9a6-43cf-cf74-81aac406843d"
      },
      "execution_count": 212,
      "outputs": [
        {
          "output_type": "execute_result",
          "data": {
            "text/plain": [
              "(4640, 16)"
            ]
          },
          "metadata": {},
          "execution_count": 212
        }
      ]
    },
    {
      "cell_type": "code",
      "source": [
        "df0_clean5 = df0_clean4.iloc[4640:,:]"
      ],
      "metadata": {
        "id": "f3RA30dAVbms"
      },
      "execution_count": 213,
      "outputs": []
    },
    {
      "cell_type": "code",
      "source": [
        "df0_clean4.shape"
      ],
      "metadata": {
        "id": "39bGxQv0Vbms",
        "colab": {
          "base_uri": "https://localhost:8080/"
        },
        "outputId": "2aa977a3-fa27-471b-cf9f-1223fe266c6f"
      },
      "execution_count": 214,
      "outputs": [
        {
          "output_type": "execute_result",
          "data": {
            "text/plain": [
              "(17988, 16)"
            ]
          },
          "metadata": {},
          "execution_count": 214
        }
      ]
    },
    {
      "cell_type": "code",
      "source": [
        "df0_clean5.shape"
      ],
      "metadata": {
        "id": "xNwAjsbIVbms",
        "colab": {
          "base_uri": "https://localhost:8080/"
        },
        "outputId": "cc8fbdd8-0ff7-4576-a2a0-0e9d53215564"
      },
      "execution_count": 215,
      "outputs": [
        {
          "output_type": "execute_result",
          "data": {
            "text/plain": [
              "(13348, 16)"
            ]
          },
          "metadata": {},
          "execution_count": 215
        }
      ]
    },
    {
      "cell_type": "code",
      "source": [
        "df0_clean4.shape[0]-df0_clean5.shape[0]"
      ],
      "metadata": {
        "id": "Ak_GUc1bVpgq",
        "colab": {
          "base_uri": "https://localhost:8080/"
        },
        "outputId": "47d052f2-6074-4120-f5ca-d345ef60a586"
      },
      "execution_count": 216,
      "outputs": [
        {
          "output_type": "execute_result",
          "data": {
            "text/plain": [
              "4640"
            ]
          },
          "metadata": {},
          "execution_count": 216
        }
      ]
    },
    {
      "cell_type": "markdown",
      "source": [
        "#### model 5"
      ],
      "metadata": {
        "id": "YQ7mX8KRVbmt"
      }
    },
    {
      "cell_type": "code",
      "source": [
        "data5 = shuffle(pd.concat([df1,df0_5]))"
      ],
      "metadata": {
        "id": "MWUZs6agVbmt"
      },
      "execution_count": 217,
      "outputs": []
    },
    {
      "cell_type": "code",
      "source": [
        "data5[\"y\"].value_counts()"
      ],
      "metadata": {
        "id": "QMsqVaxQVbmt",
        "colab": {
          "base_uri": "https://localhost:8080/"
        },
        "outputId": "af908166-bb06-40b9-9156-a516b098c2a5"
      },
      "execution_count": 218,
      "outputs": [
        {
          "output_type": "execute_result",
          "data": {
            "text/plain": [
              "1    4640\n",
              "0    4640\n",
              "Name: y, dtype: int64"
            ]
          },
          "metadata": {},
          "execution_count": 218
        }
      ]
    },
    {
      "cell_type": "code",
      "source": [
        "XX5 = data5.drop(\"y\", axis=1)\n",
        "YY5 = data5[\"y\"]"
      ],
      "metadata": {
        "id": "gefYETHhVbmt"
      },
      "execution_count": 219,
      "outputs": []
    },
    {
      "cell_type": "code",
      "source": [
        "XX_train5, XX_test5, YY_train5, YY_test5 = train_test_split(XX5, YY5, test_size=0.2)"
      ],
      "metadata": {
        "id": "s-LTUdx2Vbmu"
      },
      "execution_count": 220,
      "outputs": []
    },
    {
      "cell_type": "code",
      "source": [
        "RF5 = RandomForestClassifier()\n",
        "RF5.fit(XX_train5, YY_train5)\n",
        "y_pred5 = RF5.predict(XX_test5)"
      ],
      "metadata": {
        "id": "hTbi67laVbmu"
      },
      "execution_count": 221,
      "outputs": []
    },
    {
      "cell_type": "code",
      "source": [
        "print(confusion_matrix(YY_test5, y_pred5))"
      ],
      "metadata": {
        "id": "VYZKOxrDVbmu",
        "colab": {
          "base_uri": "https://localhost:8080/"
        },
        "outputId": "f4de6acb-3bd5-4170-df23-cb9329276e0b"
      },
      "execution_count": 222,
      "outputs": [
        {
          "output_type": "stream",
          "name": "stdout",
          "text": [
            "[[775 156]\n",
            " [ 61 864]]\n"
          ]
        }
      ]
    },
    {
      "cell_type": "code",
      "source": [
        "print(classification_report(YY_test5, y_pred5))"
      ],
      "metadata": {
        "id": "r1iB4KFiVbmu",
        "colab": {
          "base_uri": "https://localhost:8080/"
        },
        "outputId": "e45538d8-7d45-4fd0-d001-692f9d0a23bf"
      },
      "execution_count": 223,
      "outputs": [
        {
          "output_type": "stream",
          "name": "stdout",
          "text": [
            "              precision    recall  f1-score   support\n",
            "\n",
            "           0       0.93      0.83      0.88       931\n",
            "           1       0.85      0.93      0.89       925\n",
            "\n",
            "    accuracy                           0.88      1856\n",
            "   macro avg       0.89      0.88      0.88      1856\n",
            "weighted avg       0.89      0.88      0.88      1856\n",
            "\n"
          ]
        }
      ]
    },
    {
      "cell_type": "code",
      "source": [
        "F1_score5 = round(f1_score(y_true=YY_test5, y_pred=y_pred5),4)\n",
        "recall5 = round(recall_score(y_true=YY_test5, y_pred=y_pred5),4)\n",
        "precision5 = round(precision_score(y_true=YY_test5, y_pred=y_pred5),4)"
      ],
      "metadata": {
        "id": "HPJLzVfBVbmv"
      },
      "execution_count": 224,
      "outputs": []
    },
    {
      "cell_type": "code",
      "source": [
        "print(\"\\n F1 score= {} \\n recall score= {} \\n precision score= {}\".format(F1_score5, recall5,precision5))"
      ],
      "metadata": {
        "id": "TBVw_xzqVbmv",
        "colab": {
          "base_uri": "https://localhost:8080/"
        },
        "outputId": "dcb38cc2-91b3-4a65-d401-c843146d4538"
      },
      "execution_count": 225,
      "outputs": [
        {
          "output_type": "stream",
          "name": "stdout",
          "text": [
            "\n",
            " F1 score= 0.8884 \n",
            " recall score= 0.9341 \n",
            " precision score= 0.8471\n"
          ]
        }
      ]
    },
    {
      "cell_type": "markdown",
      "source": [],
      "metadata": {
        "id": "18YvThPGWeGH"
      }
    },
    {
      "cell_type": "markdown",
      "source": [
        "###6"
      ],
      "metadata": {
        "id": "HzQ0fJmccmBW"
      }
    },
    {
      "cell_type": "markdown",
      "source": [
        "####split 6"
      ],
      "metadata": {
        "id": "wtUxODPfWeWu"
      }
    },
    {
      "cell_type": "code",
      "source": [
        "df0_clean5 = shuffle(df0_clean5)"
      ],
      "metadata": {
        "id": "P_fRww3jWeWv"
      },
      "execution_count": 226,
      "outputs": []
    },
    {
      "cell_type": "code",
      "source": [
        "df0_6= df0_clean5.iloc[:4640,:]"
      ],
      "metadata": {
        "id": "KjBVXnRoWeWv"
      },
      "execution_count": 227,
      "outputs": []
    },
    {
      "cell_type": "code",
      "source": [
        "df0_6.shape"
      ],
      "metadata": {
        "id": "WZF8HrWBWeWw",
        "colab": {
          "base_uri": "https://localhost:8080/"
        },
        "outputId": "55daa260-b3c1-448f-ba62-d5187161f2aa"
      },
      "execution_count": 228,
      "outputs": [
        {
          "output_type": "execute_result",
          "data": {
            "text/plain": [
              "(4640, 16)"
            ]
          },
          "metadata": {},
          "execution_count": 228
        }
      ]
    },
    {
      "cell_type": "code",
      "source": [
        "df0_clean6 = df0_clean5.iloc[4640:,:]"
      ],
      "metadata": {
        "id": "MNUhRjexWeWw"
      },
      "execution_count": 229,
      "outputs": []
    },
    {
      "cell_type": "code",
      "source": [
        "df0_clean6.shape"
      ],
      "metadata": {
        "id": "oDMFsJd0WeWw",
        "colab": {
          "base_uri": "https://localhost:8080/"
        },
        "outputId": "f74e0214-303e-48e6-a6ef-76b69df0327e"
      },
      "execution_count": 230,
      "outputs": [
        {
          "output_type": "execute_result",
          "data": {
            "text/plain": [
              "(8708, 16)"
            ]
          },
          "metadata": {},
          "execution_count": 230
        }
      ]
    },
    {
      "cell_type": "code",
      "source": [
        "df0_clean5.shape[0]-df0_clean6.shape[0]"
      ],
      "metadata": {
        "id": "urs5CFuwWeWx",
        "colab": {
          "base_uri": "https://localhost:8080/"
        },
        "outputId": "5b7f71df-834e-4a55-8c3e-7368f93e3654"
      },
      "execution_count": 231,
      "outputs": [
        {
          "output_type": "execute_result",
          "data": {
            "text/plain": [
              "4640"
            ]
          },
          "metadata": {},
          "execution_count": 231
        }
      ]
    },
    {
      "cell_type": "markdown",
      "source": [
        "#### model 6"
      ],
      "metadata": {
        "id": "Znb8B3GyWeWy"
      }
    },
    {
      "cell_type": "code",
      "source": [
        "data6 = shuffle(pd.concat([df1,df0_6]))"
      ],
      "metadata": {
        "id": "jw7O5dy5WeWy"
      },
      "execution_count": 232,
      "outputs": []
    },
    {
      "cell_type": "code",
      "source": [
        "data6[\"y\"].value_counts()"
      ],
      "metadata": {
        "id": "XZLnIJpoWeWz",
        "colab": {
          "base_uri": "https://localhost:8080/"
        },
        "outputId": "e345d52a-b766-4cac-90a6-61e81073928d"
      },
      "execution_count": 233,
      "outputs": [
        {
          "output_type": "execute_result",
          "data": {
            "text/plain": [
              "1    4640\n",
              "0    4640\n",
              "Name: y, dtype: int64"
            ]
          },
          "metadata": {},
          "execution_count": 233
        }
      ]
    },
    {
      "cell_type": "code",
      "source": [
        "XX6 = data6.drop(\"y\", axis=1)\n",
        "YY6 = data6[\"y\"]"
      ],
      "metadata": {
        "id": "9Z0jIAGuWeWz"
      },
      "execution_count": 234,
      "outputs": []
    },
    {
      "cell_type": "code",
      "source": [
        "XX_train6, XX_test6, YY_train6, YY_test6 = train_test_split(XX6, YY6, test_size=0.2)"
      ],
      "metadata": {
        "id": "PoMRhcfNWeWz"
      },
      "execution_count": 235,
      "outputs": []
    },
    {
      "cell_type": "code",
      "source": [
        "RF6 = RandomForestClassifier()\n",
        "RF6.fit(XX_train6, YY_train6)\n",
        "y_pred6 = RF6.predict(XX_test6)"
      ],
      "metadata": {
        "id": "10fx0FHqWeW0"
      },
      "execution_count": 236,
      "outputs": []
    },
    {
      "cell_type": "code",
      "source": [
        "print(confusion_matrix(YY_test6, y_pred6))"
      ],
      "metadata": {
        "id": "xOE5De0YWeW0",
        "colab": {
          "base_uri": "https://localhost:8080/"
        },
        "outputId": "c6e1c820-ddab-4465-d31a-085502a4142e"
      },
      "execution_count": 237,
      "outputs": [
        {
          "output_type": "stream",
          "name": "stdout",
          "text": [
            "[[789 155]\n",
            " [ 57 855]]\n"
          ]
        }
      ]
    },
    {
      "cell_type": "code",
      "source": [
        "print(classification_report(YY_test6, y_pred6))"
      ],
      "metadata": {
        "id": "bQ7wrEVLWeW0",
        "colab": {
          "base_uri": "https://localhost:8080/"
        },
        "outputId": "8d11f8eb-23aa-4391-b89a-978c764b26ff"
      },
      "execution_count": 238,
      "outputs": [
        {
          "output_type": "stream",
          "name": "stdout",
          "text": [
            "              precision    recall  f1-score   support\n",
            "\n",
            "           0       0.93      0.84      0.88       944\n",
            "           1       0.85      0.94      0.89       912\n",
            "\n",
            "    accuracy                           0.89      1856\n",
            "   macro avg       0.89      0.89      0.89      1856\n",
            "weighted avg       0.89      0.89      0.89      1856\n",
            "\n"
          ]
        }
      ]
    },
    {
      "cell_type": "code",
      "source": [
        "F1_score6 = round(f1_score(y_true=YY_test6, y_pred=y_pred6),4)\n",
        "recall6 = round(recall_score(y_true=YY_test6, y_pred=y_pred6),4)\n",
        "precision6 = round(precision_score(y_true=YY_test6, y_pred=y_pred6),4)"
      ],
      "metadata": {
        "id": "sfNIhcrBWeW1"
      },
      "execution_count": 239,
      "outputs": []
    },
    {
      "cell_type": "code",
      "source": [
        "print(\"\\n F1 score= {} \\n recall score= {} \\n precision score= {}\".format(F1_score6, recall6,precision6))"
      ],
      "metadata": {
        "id": "hnYend_LWeW1",
        "colab": {
          "base_uri": "https://localhost:8080/"
        },
        "outputId": "d7038ff9-3cea-4e39-c203-5ad495a091a8"
      },
      "execution_count": 240,
      "outputs": [
        {
          "output_type": "stream",
          "name": "stdout",
          "text": [
            "\n",
            " F1 score= 0.8897 \n",
            " recall score= 0.9375 \n",
            " precision score= 0.8465\n"
          ]
        }
      ]
    },
    {
      "cell_type": "markdown",
      "source": [
        "###7"
      ],
      "metadata": {
        "id": "e29Nmkkdcn02"
      }
    },
    {
      "cell_type": "markdown",
      "source": [
        "####Split 7"
      ],
      "metadata": {
        "id": "Rap5bcpxXYq-"
      }
    },
    {
      "cell_type": "code",
      "source": [
        "df0_clean6 = shuffle(df0_clean6)"
      ],
      "metadata": {
        "id": "JPt6myehXieq"
      },
      "execution_count": 241,
      "outputs": []
    },
    {
      "cell_type": "code",
      "source": [
        "df0_7= df0_clean6.iloc[:4640,:]"
      ],
      "metadata": {
        "id": "RjKEX0D0Xier"
      },
      "execution_count": 242,
      "outputs": []
    },
    {
      "cell_type": "code",
      "source": [
        "df0_7.shape"
      ],
      "metadata": {
        "id": "TXF545fCXier",
        "colab": {
          "base_uri": "https://localhost:8080/"
        },
        "outputId": "1a999c9a-1e92-46f4-b2c0-315b2767081f"
      },
      "execution_count": 243,
      "outputs": [
        {
          "output_type": "execute_result",
          "data": {
            "text/plain": [
              "(4640, 16)"
            ]
          },
          "metadata": {},
          "execution_count": 243
        }
      ]
    },
    {
      "cell_type": "code",
      "source": [
        "df0_clean7 = df0_clean6.iloc[4640:,:]"
      ],
      "metadata": {
        "id": "24DCpC5fXier"
      },
      "execution_count": 244,
      "outputs": []
    },
    {
      "cell_type": "code",
      "source": [
        "df0_clean7.shape"
      ],
      "metadata": {
        "id": "Kt814X7FXies",
        "colab": {
          "base_uri": "https://localhost:8080/"
        },
        "outputId": "4806ee1d-a9de-47df-bc5b-92891a28d868"
      },
      "execution_count": 245,
      "outputs": [
        {
          "output_type": "execute_result",
          "data": {
            "text/plain": [
              "(4068, 16)"
            ]
          },
          "metadata": {},
          "execution_count": 245
        }
      ]
    },
    {
      "cell_type": "code",
      "source": [
        "df0_clean6.shape[0]-df0_clean7.shape[0]"
      ],
      "metadata": {
        "id": "A-yUmVs4Xies",
        "colab": {
          "base_uri": "https://localhost:8080/"
        },
        "outputId": "a66ce2f9-6aa0-4d3b-d0e8-39419f342993"
      },
      "execution_count": 246,
      "outputs": [
        {
          "output_type": "execute_result",
          "data": {
            "text/plain": [
              "4640"
            ]
          },
          "metadata": {},
          "execution_count": 246
        }
      ]
    },
    {
      "cell_type": "markdown",
      "source": [
        "#### model 7"
      ],
      "metadata": {
        "id": "2NIVQTKdX2Jh"
      }
    },
    {
      "cell_type": "code",
      "source": [
        "data7 = shuffle(pd.concat([df1,df0_7]))"
      ],
      "metadata": {
        "id": "Na-07d8bX2Jh"
      },
      "execution_count": 247,
      "outputs": []
    },
    {
      "cell_type": "code",
      "source": [
        "data7[\"y\"].value_counts()"
      ],
      "metadata": {
        "id": "1aO--RLAX2Ji",
        "colab": {
          "base_uri": "https://localhost:8080/"
        },
        "outputId": "090b4d48-462f-41db-abd9-3a30d5cbacaf"
      },
      "execution_count": 248,
      "outputs": [
        {
          "output_type": "execute_result",
          "data": {
            "text/plain": [
              "0    4640\n",
              "1    4640\n",
              "Name: y, dtype: int64"
            ]
          },
          "metadata": {},
          "execution_count": 248
        }
      ]
    },
    {
      "cell_type": "code",
      "source": [
        "XX7 = data7.drop(\"y\", axis=1)\n",
        "YY7 = data7[\"y\"]"
      ],
      "metadata": {
        "id": "ST1EXoO3X2Ji"
      },
      "execution_count": 249,
      "outputs": []
    },
    {
      "cell_type": "code",
      "source": [
        "XX_train7, XX_test7, YY_train7, YY_test7 = train_test_split(XX7, YY7, test_size=0.2)"
      ],
      "metadata": {
        "id": "P4HopLujX2Jj"
      },
      "execution_count": 250,
      "outputs": []
    },
    {
      "cell_type": "code",
      "source": [
        "RF7 = RandomForestClassifier()\n",
        "RF7.fit(XX_train7, YY_train7)\n",
        "y_pred7 = RF7.predict(XX_test7)"
      ],
      "metadata": {
        "id": "JgDowhv5X2Jj"
      },
      "execution_count": 251,
      "outputs": []
    },
    {
      "cell_type": "code",
      "source": [
        "print(confusion_matrix(YY_test7, y_pred7))"
      ],
      "metadata": {
        "id": "5bgmT_YoX2Jj",
        "colab": {
          "base_uri": "https://localhost:8080/"
        },
        "outputId": "14a0ad91-50c8-41d2-e8bf-d0ab1664ce44"
      },
      "execution_count": 252,
      "outputs": [
        {
          "output_type": "stream",
          "name": "stdout",
          "text": [
            "[[774 143]\n",
            " [ 59 880]]\n"
          ]
        }
      ]
    },
    {
      "cell_type": "code",
      "source": [
        "print(classification_report(YY_test7, y_pred7))"
      ],
      "metadata": {
        "id": "K-CglqDoX2Jk",
        "colab": {
          "base_uri": "https://localhost:8080/"
        },
        "outputId": "4d861766-cc09-4dac-c9af-cb2daab117dd"
      },
      "execution_count": 253,
      "outputs": [
        {
          "output_type": "stream",
          "name": "stdout",
          "text": [
            "              precision    recall  f1-score   support\n",
            "\n",
            "           0       0.93      0.84      0.88       917\n",
            "           1       0.86      0.94      0.90       939\n",
            "\n",
            "    accuracy                           0.89      1856\n",
            "   macro avg       0.89      0.89      0.89      1856\n",
            "weighted avg       0.89      0.89      0.89      1856\n",
            "\n"
          ]
        }
      ]
    },
    {
      "cell_type": "code",
      "source": [
        "F1_score7 = round(f1_score(y_true=YY_test7, y_pred=y_pred7),4)\n",
        "recall7 = round(recall_score(y_true=YY_test7, y_pred=y_pred7),4)\n",
        "precision7 = round(precision_score(y_true=YY_test7, y_pred=y_pred7),4)"
      ],
      "metadata": {
        "id": "8GUm19zOX2Jk"
      },
      "execution_count": 254,
      "outputs": []
    },
    {
      "cell_type": "code",
      "source": [
        "print(\"\\n F1 score= {} \\n recall score= {} \\n precision score= {}\".format(F1_score7, recall7,precision7))"
      ],
      "metadata": {
        "id": "wpdcJCh9X2Jk",
        "colab": {
          "base_uri": "https://localhost:8080/"
        },
        "outputId": "f0d321f3-72a0-4ce2-ce41-cc8fb5004e7b"
      },
      "execution_count": 255,
      "outputs": [
        {
          "output_type": "stream",
          "name": "stdout",
          "text": [
            "\n",
            " F1 score= 0.897 \n",
            " recall score= 0.9372 \n",
            " precision score= 0.8602\n"
          ]
        }
      ]
    },
    {
      "cell_type": "code",
      "source": [],
      "metadata": {
        "id": "2ozSCS8AYi_h"
      },
      "execution_count": 255,
      "outputs": []
    },
    {
      "cell_type": "markdown",
      "source": [
        "###8"
      ],
      "metadata": {
        "id": "3wmY0i_OcpgP"
      }
    },
    {
      "cell_type": "markdown",
      "source": [
        "####Split 8"
      ],
      "metadata": {
        "id": "ofTh086fYja7"
      }
    },
    {
      "cell_type": "code",
      "source": [
        "df0_clean7.shape"
      ],
      "metadata": {
        "id": "2ej_oKTFZJcI",
        "colab": {
          "base_uri": "https://localhost:8080/"
        },
        "outputId": "596f7d24-e084-4b78-c608-9bec8cc52c73"
      },
      "execution_count": 256,
      "outputs": [
        {
          "output_type": "execute_result",
          "data": {
            "text/plain": [
              "(4068, 16)"
            ]
          },
          "metadata": {},
          "execution_count": 256
        }
      ]
    },
    {
      "cell_type": "code",
      "source": [
        "df0_8 = shuffle(df0_clean7)"
      ],
      "metadata": {
        "id": "pE6MGoNaYja8"
      },
      "execution_count": 257,
      "outputs": []
    },
    {
      "cell_type": "markdown",
      "source": [
        "#### model 8"
      ],
      "metadata": {
        "id": "YLu6CnFeYja9"
      }
    },
    {
      "cell_type": "code",
      "source": [
        "data8 = shuffle(pd.concat([df1,df0_8]))"
      ],
      "metadata": {
        "id": "10oCzCbVYja9"
      },
      "execution_count": 258,
      "outputs": []
    },
    {
      "cell_type": "code",
      "source": [
        "data8[\"y\"].value_counts()"
      ],
      "metadata": {
        "id": "XPEseyVXYja9",
        "colab": {
          "base_uri": "https://localhost:8080/"
        },
        "outputId": "2d04b4a7-c346-432d-be21-3d1c7cc029d6"
      },
      "execution_count": 259,
      "outputs": [
        {
          "output_type": "execute_result",
          "data": {
            "text/plain": [
              "1    4640\n",
              "0    4068\n",
              "Name: y, dtype: int64"
            ]
          },
          "metadata": {},
          "execution_count": 259
        }
      ]
    },
    {
      "cell_type": "code",
      "source": [
        "XX8 = data8.drop(\"y\", axis=1)\n",
        "YY8 = data8[\"y\"]"
      ],
      "metadata": {
        "id": "MQt9CljjYja-"
      },
      "execution_count": 260,
      "outputs": []
    },
    {
      "cell_type": "code",
      "source": [
        "XX_train8, XX_test8, YY_train8, YY_test8 = train_test_split(XX8, YY8, test_size=0.2)"
      ],
      "metadata": {
        "id": "T2YaG73tYja-"
      },
      "execution_count": 261,
      "outputs": []
    },
    {
      "cell_type": "code",
      "source": [
        "RF8 = RandomForestClassifier()\n",
        "RF8.fit(XX_train8, YY_train8)\n",
        "y_pred8 = RF8.predict(XX_test8)"
      ],
      "metadata": {
        "id": "PBV-sOPnYja-"
      },
      "execution_count": 262,
      "outputs": []
    },
    {
      "cell_type": "code",
      "source": [
        "print(confusion_matrix(YY_test8, y_pred8))"
      ],
      "metadata": {
        "id": "_i74L6wwYja-",
        "colab": {
          "base_uri": "https://localhost:8080/"
        },
        "outputId": "1bd9a8ba-026b-42c7-e2dd-96d9bd2ef983"
      },
      "execution_count": 263,
      "outputs": [
        {
          "output_type": "stream",
          "name": "stdout",
          "text": [
            "[[678 144]\n",
            " [ 55 865]]\n"
          ]
        }
      ]
    },
    {
      "cell_type": "code",
      "source": [
        "print(classification_report(YY_test8, y_pred8))"
      ],
      "metadata": {
        "id": "XwFswH-0Yja-",
        "colab": {
          "base_uri": "https://localhost:8080/"
        },
        "outputId": "aa9601fe-1651-4f3d-bf70-a68a25e0da51"
      },
      "execution_count": 264,
      "outputs": [
        {
          "output_type": "stream",
          "name": "stdout",
          "text": [
            "              precision    recall  f1-score   support\n",
            "\n",
            "           0       0.92      0.82      0.87       822\n",
            "           1       0.86      0.94      0.90       920\n",
            "\n",
            "    accuracy                           0.89      1742\n",
            "   macro avg       0.89      0.88      0.88      1742\n",
            "weighted avg       0.89      0.89      0.89      1742\n",
            "\n"
          ]
        }
      ]
    },
    {
      "cell_type": "code",
      "source": [
        "F1_score8 = round(f1_score(y_true=YY_test8, y_pred=y_pred8),4)\n",
        "recall8 = round(recall_score(y_true=YY_test8, y_pred=y_pred8),4)\n",
        "precision8 = round(precision_score(y_true=YY_test8, y_pred=y_pred8),4)\n",
        "print(\"\\n F1 score= {} \\n recall score= {} \\n precision score= {}\".format(F1_score8, recall8,precision8))"
      ],
      "metadata": {
        "id": "O5MYRdJUYja-",
        "colab": {
          "base_uri": "https://localhost:8080/"
        },
        "outputId": "5e73047d-319c-4049-9033-50da4521a802"
      },
      "execution_count": 265,
      "outputs": [
        {
          "output_type": "stream",
          "name": "stdout",
          "text": [
            "\n",
            " F1 score= 0.8968 \n",
            " recall score= 0.9402 \n",
            " precision score= 0.8573\n"
          ]
        }
      ]
    },
    {
      "cell_type": "markdown",
      "source": [
        "###metrics"
      ],
      "metadata": {
        "id": "PVU1cez3Z_FD"
      }
    },
    {
      "cell_type": "code",
      "source": [
        "F1_score_G = [F1_score1, F1_score2, F1_score3, F1_score4, F1_score5, F1_score6, F1_score7, F1_score8]\n",
        "mean_F1_score = statistics.mean(F1_score_G)"
      ],
      "metadata": {
        "id": "EEbxK9YxZ-4r"
      },
      "execution_count": 268,
      "outputs": []
    },
    {
      "cell_type": "code",
      "source": [
        "mean_F1_score"
      ],
      "metadata": {
        "id": "IuncMnyIZ-uI",
        "colab": {
          "base_uri": "https://localhost:8080/"
        },
        "outputId": "fec29120-688b-4b35-ee17-6b348211ee01"
      },
      "execution_count": 269,
      "outputs": [
        {
          "output_type": "execute_result",
          "data": {
            "text/plain": [
              "0.9057"
            ]
          },
          "metadata": {},
          "execution_count": 269
        }
      ]
    },
    {
      "cell_type": "code",
      "source": [
        "recall_G= [recall1, recall2, recall3, recall4, recall5, recall6, recall7, recall8]\n",
        "mean_recall_G = statistics.mean(recall_G)"
      ],
      "metadata": {
        "id": "-7buJ2acbRs6"
      },
      "execution_count": 270,
      "outputs": []
    },
    {
      "cell_type": "code",
      "source": [
        "print(recall_G)"
      ],
      "metadata": {
        "id": "JbHY0FTZdvox",
        "colab": {
          "base_uri": "https://localhost:8080/"
        },
        "outputId": "8798dc6e-ab7d-4495-8e1d-f6afb568ac9d"
      },
      "execution_count": 271,
      "outputs": [
        {
          "output_type": "stream",
          "name": "stdout",
          "text": [
            "[0.9608, 0.9281, 0.9281, 0.944, 0.9341, 0.9375, 0.9372, 0.9402]\n"
          ]
        }
      ]
    },
    {
      "cell_type": "code",
      "source": [
        "mean_recall_G"
      ],
      "metadata": {
        "id": "kUw1twwcbRqZ",
        "colab": {
          "base_uri": "https://localhost:8080/"
        },
        "outputId": "d10dabbf-11cb-42d4-ff13-c38b3c6b46c1"
      },
      "execution_count": 272,
      "outputs": [
        {
          "output_type": "execute_result",
          "data": {
            "text/plain": [
              "0.93875"
            ]
          },
          "metadata": {},
          "execution_count": 272
        }
      ]
    },
    {
      "cell_type": "code",
      "source": [
        "precision_G = [precision1, precision2, precision3, precision4, precision5, precision6, precision7]\n",
        "mean_precision_G = statistics.mean(precision_G)"
      ],
      "metadata": {
        "id": "dJLKY-sSbo-Z"
      },
      "execution_count": 273,
      "outputs": []
    },
    {
      "cell_type": "code",
      "source": [
        "mean_precision_G"
      ],
      "metadata": {
        "id": "sH9zuaggbo7E",
        "colab": {
          "base_uri": "https://localhost:8080/"
        },
        "outputId": "82280fe1-955b-4370-ffbc-f66e09b73272"
      },
      "execution_count": 274,
      "outputs": [
        {
          "output_type": "execute_result",
          "data": {
            "text/plain": [
              "0.8783142857142857"
            ]
          },
          "metadata": {},
          "execution_count": 274
        }
      ]
    },
    {
      "cell_type": "code",
      "source": [
        "print(\"\\n F1 score= {} \\n recall score= {} \\n precision score= {}\".format(mean_F1_score, mean_recall_G,mean_precision_G))"
      ],
      "metadata": {
        "id": "_6uivelddMUw",
        "colab": {
          "base_uri": "https://localhost:8080/"
        },
        "outputId": "7cf5d41f-5b3b-480a-94d7-fcf43971652d"
      },
      "execution_count": 275,
      "outputs": [
        {
          "output_type": "stream",
          "name": "stdout",
          "text": [
            "\n",
            " F1 score= 0.9057 \n",
            " recall score= 0.93875 \n",
            " precision score= 0.8783142857142857\n"
          ]
        }
      ]
    }
  ]
}